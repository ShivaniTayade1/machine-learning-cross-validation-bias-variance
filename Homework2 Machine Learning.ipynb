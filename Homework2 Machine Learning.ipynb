{
 "cells": [
  {
   "cell_type": "markdown",
   "id": "27c5a000-d830-47ac-b684-90a014e2d2a0",
   "metadata": {},
   "source": [
    "# Question 1"
   ]
  },
  {
   "cell_type": "code",
   "execution_count": 411,
   "id": "5fdf6d57-43ca-4e51-942c-8ccdac664441",
   "metadata": {
    "execution": {
     "iopub.execute_input": "2025-01-27T04:13:38.586881Z",
     "iopub.status.busy": "2025-01-27T04:13:38.586541Z",
     "iopub.status.idle": "2025-01-27T04:13:38.599162Z",
     "shell.execute_reply": "2025-01-27T04:13:38.598188Z",
     "shell.execute_reply.started": "2025-01-27T04:13:38.586852Z"
    }
   },
   "outputs": [],
   "source": [
    "import numpy as np\n",
    "import matplotlib.pyplot as plt\n",
    "from sklearn.metrics import mean_squared_error\n",
    "from sklearn.model_selection import train_test_split\n",
    "from sklearn.preprocessing import PolynomialFeatures\n",
    "from sklearn.linear_model import LinearRegression\n",
    "from sklearn.model_selection import KFold\n",
    "import pandas as pd\n",
    "from tqdm import tqdm, trange"
   ]
  },
  {
   "cell_type": "markdown",
   "id": "0522cded",
   "metadata": {},
   "source": [
    "### Create Dataset\n",
    "<ol>\n",
    "    <li>Sample a vector $X \\in R_n$ where each $X_i \\in U[0, 1]$. Each sample point ${X_i}$ is sampled from the uniform distribution</li>\n",
    "    <li>Construct y using following equation: $Y = 3X^5 + 2X^2 + \\epsilon$, where $\\epsilon \\in R_n$. Each $\\epsilon_i$ is sampled independently from the N(0,0.5) (Normal distribution)</li>\n",
    "    <li> Number of datapoints: 10000\n",
    "</ol>"
   ]
  },
  {
   "cell_type": "code",
   "execution_count": 415,
   "id": "f1501e15",
   "metadata": {
    "execution": {
     "iopub.execute_input": "2025-01-27T04:13:40.685917Z",
     "iopub.status.busy": "2025-01-27T04:13:40.685647Z",
     "iopub.status.idle": "2025-01-27T04:13:40.703076Z",
     "shell.execute_reply": "2025-01-27T04:13:40.702408Z",
     "shell.execute_reply.started": "2025-01-27T04:13:40.685890Z"
    }
   },
   "outputs": [],
   "source": [
    "#Setting up random seed\n",
    "np.random.seed(42)"
   ]
  },
  {
   "cell_type": "code",
   "execution_count": 417,
   "id": "4ae239bb-56b5-486b-83de-a2af66bacb78",
   "metadata": {
    "execution": {
     "iopub.execute_input": "2025-01-27T04:13:41.062371Z",
     "iopub.status.busy": "2025-01-27T04:13:41.061578Z",
     "iopub.status.idle": "2025-01-27T04:13:41.078083Z",
     "shell.execute_reply": "2025-01-27T04:13:41.076881Z",
     "shell.execute_reply.started": "2025-01-27T04:13:41.062341Z"
    }
   },
   "outputs": [
    {
     "name": "stdout",
     "output_type": "stream",
     "text": [
      "First five values of X: [0.37454012 0.95071431 0.73199394 0.59865848 0.15601864]\n",
      "First five values of Y: [-0.74940527  3.34217171  1.97702842  0.1174139   0.83571223]\n",
      "First five values of ep: [-1.0520771  -0.79562672  0.27493649 -0.83005379  0.78675126]\n"
     ]
    }
   ],
   "source": [
    "n = 10000\n",
    "X = np.random.uniform(0, 1, n)\n",
    "ep = np.random.normal(0, np.sqrt(0.5), n)\n",
    "\n",
    "Y = (3*(X**5)) + (2*(X**2)) + ep\n",
    "\n",
    "print(\"First five values of X:\", X[:5])\n",
    "print(\"First five values of Y:\", Y[:5])\n",
    "print(\"First five values of ep:\", ep[:5])"
   ]
  },
  {
   "cell_type": "markdown",
   "id": "eebdd0ce",
   "metadata": {},
   "source": [
    "#### Train-Test split - 80:20"
   ]
  },
  {
   "cell_type": "code",
   "execution_count": 422,
   "id": "9c60f20d-5589-49b4-b692-0c6319bbb580",
   "metadata": {
    "execution": {
     "iopub.execute_input": "2025-01-27T04:13:42.691405Z",
     "iopub.status.busy": "2025-01-27T04:13:42.691022Z",
     "iopub.status.idle": "2025-01-27T04:13:42.708730Z",
     "shell.execute_reply": "2025-01-27T04:13:42.707964Z",
     "shell.execute_reply.started": "2025-01-27T04:13:42.691383Z"
    }
   },
   "outputs": [],
   "source": [
    "X = X.reshape(-1, 1)\n",
    "train_size = int(0.8 * len(X))\n",
    "X_train, X_test = X[:train_size], X[train_size:]\n",
    "Y_train, Y_test = Y[:train_size], Y[train_size:]"
   ]
  },
  {
   "cell_type": "markdown",
   "id": "949fe0ed",
   "metadata": {},
   "source": [
    "### Cross-Validation\n",
    "<ul>\n",
    "    <li>Split the training set into 5 parts and use the five folds to choose the optimal d.</li>\n",
    "    <li>The loss function you would implement is the MSE error. You want to estimate the MSE error on each fold for a model that has been trained on the remaining 4 folds.</li>\n",
    "    <li>The cross validation (CV) error for the training set would be the average MSE across all five folds.</li>\n",
    "</ul>"
   ]
  },
  {
   "cell_type": "code",
   "execution_count": 426,
   "id": "6cd8b839",
   "metadata": {
    "execution": {
     "iopub.execute_input": "2025-01-27T04:13:44.775944Z",
     "iopub.status.busy": "2025-01-27T04:13:44.775645Z",
     "iopub.status.idle": "2025-01-27T04:13:44.990871Z",
     "shell.execute_reply": "2025-01-27T04:13:44.990114Z",
     "shell.execute_reply.started": "2025-01-27T04:13:44.775916Z"
    }
   },
   "outputs": [
    {
     "name": "stdout",
     "output_type": "stream",
     "text": [
      "Polynomial Degree is: 1\n",
      "MSE Error for fold 1 is : 0.8230384923292247\n",
      "MSE Error for fold 2 is : 0.7890777267244\n",
      "MSE Error for fold 3 is : 0.8152666473358448\n",
      "MSE Error for fold 4 is : 0.8589588061834073\n",
      "MSE Error for fold 5 is : 0.826366955878618\n",
      "Polynomial Degree is: 2\n",
      "MSE Error for fold 1 is : 0.5232259845040074\n",
      "MSE Error for fold 2 is : 0.5302187307298682\n",
      "MSE Error for fold 3 is : 0.5356815991509061\n",
      "MSE Error for fold 4 is : 0.5394539311616645\n",
      "MSE Error for fold 5 is : 0.5129587676069841\n",
      "Polynomial Degree is: 3\n",
      "MSE Error for fold 1 is : 0.5054239181204657\n",
      "MSE Error for fold 2 is : 0.4780169099928496\n",
      "MSE Error for fold 3 is : 0.5285900547657627\n",
      "MSE Error for fold 4 is : 0.4869134529949882\n",
      "MSE Error for fold 5 is : 0.5113070632184309\n",
      "Polynomial Degree is: 4\n",
      "MSE Error for fold 1 is : 0.47576023039341314\n",
      "MSE Error for fold 2 is : 0.516446504711973\n",
      "MSE Error for fold 3 is : 0.5057856619695356\n",
      "MSE Error for fold 4 is : 0.49882333113874644\n",
      "MSE Error for fold 5 is : 0.5044602745265613\n",
      "Polynomial Degree is: 5\n",
      "MSE Error for fold 1 is : 0.5081517848628693\n",
      "MSE Error for fold 2 is : 0.4962109120609991\n",
      "MSE Error for fold 3 is : 0.5009762017276795\n",
      "MSE Error for fold 4 is : 0.4867276473652723\n",
      "MSE Error for fold 5 is : 0.5076484325872757\n",
      "Polynomial Degree is: 6\n",
      "MSE Error for fold 1 is : 0.4768444704350443\n",
      "MSE Error for fold 2 is : 0.5186562711183741\n",
      "MSE Error for fold 3 is : 0.5000260727400706\n",
      "MSE Error for fold 4 is : 0.5046857653681853\n",
      "MSE Error for fold 5 is : 0.5011758479771917\n",
      "Polynomial Degree is: 7\n",
      "MSE Error for fold 1 is : 0.5017392038824575\n",
      "MSE Error for fold 2 is : 0.5058056050346126\n",
      "MSE Error for fold 3 is : 0.480880871847631\n",
      "MSE Error for fold 4 is : 0.5063186165270026\n",
      "MSE Error for fold 5 is : 0.5064148197029521\n",
      "Polynomial Degree is: 8\n",
      "MSE Error for fold 1 is : 0.5217784218591391\n",
      "MSE Error for fold 2 is : 0.5076207939236655\n",
      "MSE Error for fold 3 is : 0.49261627591140683\n",
      "MSE Error for fold 4 is : 0.5093158972953596\n",
      "MSE Error for fold 5 is : 0.4716733094252157\n",
      "Polynomial Degree is: 9\n",
      "MSE Error for fold 1 is : 0.4956820977568162\n",
      "MSE Error for fold 2 is : 0.5074094949620694\n",
      "MSE Error for fold 3 is : 0.4847101487470971\n",
      "MSE Error for fold 4 is : 0.5159154872315925\n",
      "MSE Error for fold 5 is : 0.4964450703926036\n",
      "Polynomial Degree is: 10\n",
      "MSE Error for fold 1 is : 0.4805568408663815\n",
      "MSE Error for fold 2 is : 0.5156537958399434\n",
      "MSE Error for fold 3 is : 0.5157730917515071\n",
      "MSE Error for fold 4 is : 0.4937535918586473\n",
      "MSE Error for fold 5 is : 0.4977760321671849\n",
      "Cross Validation MSE Error for polynomial degree 1 is : 0.8225417256902989\n",
      "Cross Validation MSE Error for polynomial degree 2 is : 0.528307802630686\n",
      "Cross Validation MSE Error for polynomial degree 3 is : 0.5020502798184994\n",
      "Cross Validation MSE Error for polynomial degree 4 is : 0.5002552005480458\n",
      "Cross Validation MSE Error for polynomial degree 5 is : 0.4999429957208191\n",
      "Cross Validation MSE Error for polynomial degree 6 is : 0.5002776855277732\n",
      "Cross Validation MSE Error for polynomial degree 7 is : 0.5002318233989311\n",
      "Cross Validation MSE Error for polynomial degree 8 is : 0.5006009396829574\n",
      "Cross Validation MSE Error for polynomial degree 9 is : 0.5000324598180359\n",
      "Cross Validation MSE Error for polynomial degree 10 is : 0.5007026704967329\n"
     ]
    }
   ],
   "source": [
    "def cross_validation_mse(X_train, Y_train, max_degree, k=5):\n",
    "    mse_scores = []\n",
    "    \n",
    "    for d in range(1, max_degree + 1):\n",
    "        fold_mse = []\n",
    "        fold_errors = []\n",
    "        \n",
    "        order = np.random.permutation(n)\n",
    "        errors = []\n",
    "\n",
    "        for i in range(k):\n",
    "            test_indices = (order >= i * n // k) & (order < (i + 1) * n // k)\n",
    "            train_indices = ~test_indices\n",
    "\n",
    "            X_train_temp, X_test_temp = X[train_indices], X[test_indices]\n",
    "            Y_train_temp, Y_test_temp = Y[train_indices], Y[test_indices]\n",
    "            \n",
    "            # Train the polynomial model\n",
    "            poly = PolynomialFeatures(degree=d)\n",
    "            # print(poly)\n",
    "            X_train_poly = poly.fit_transform(X_train_temp)\n",
    "            # print(X_train_poly)\n",
    "            model = LinearRegression().fit(X_train_poly, Y_train_temp)\n",
    "            \n",
    "            # Compute MSE on the validation fold\n",
    "            X_test_poly = poly.transform(X_test_temp)\n",
    "            Y_test_pred = model.predict(X_test_poly)\n",
    "            \n",
    "            # fold_mse.append(mean_squared_error(Y_test_temp, Y_test_pred))\n",
    "            mse = np.mean((Y_test_pred - Y_test_temp)**2)\n",
    "            fold_errors.append(mse)\n",
    "        \n",
    "        # Average MSE across folds\n",
    "        print(f\"Polynomial Degree is: {d}\")\n",
    "        for j in range(k):\n",
    "            print(f\"MSE Error for fold {j+1} is : {fold_errors[j]}\")\n",
    "        mse_scores.append(np.mean(fold_errors))\n",
    "    \n",
    "    return mse_scores\n",
    "\n",
    "\n",
    "max_degree = 10\n",
    "cv_errors = cross_validation_mse(X_train, Y_train, max_degree)\n",
    "for j in range(max_degree):\n",
    "    print(f\"Cross Validation MSE Error for polynomial degree {j+1} is : {cv_errors[j]}\")"
   ]
  },
  {
   "cell_type": "code",
   "execution_count": 429,
   "id": "98f399a8",
   "metadata": {
    "execution": {
     "iopub.execute_input": "2025-01-27T04:13:46.321503Z",
     "iopub.status.busy": "2025-01-27T04:13:46.320801Z",
     "iopub.status.idle": "2025-01-27T04:13:46.561065Z",
     "shell.execute_reply": "2025-01-27T04:13:46.560371Z",
     "shell.execute_reply.started": "2025-01-27T04:13:46.321474Z"
    }
   },
   "outputs": [
    {
     "data": {
      "text/plain": [
       "<matplotlib.legend.Legend at 0x781c2b8020b0>"
      ]
     },
     "execution_count": 429,
     "metadata": {},
     "output_type": "execute_result"
    },
    {
     "data": {
      "image/png": "[encoded data removed]",
      "text/plain": [
       "<Figure size 640x480 with 1 Axes>"
      ]
     },
     "metadata": {},
     "output_type": "display_data"
    }
   ],
   "source": [
    "# Plot the CV error as a function of d for d ∈ [1, 2, . . . , 10]\n",
    "plt.plot(range(1, max_degree + 1), cv_errors, marker='o', label='Cross-Validation Error')\n",
    "plt.xlabel('Polynomial Degree (d)')\n",
    "plt.ylabel('MSE')\n",
    "plt.title('Cross-Validation Error vs Degree')\n",
    "plt.legend()"
   ]
  },
  {
   "cell_type": "code",
   "execution_count": 432,
   "id": "c2ef4ead",
   "metadata": {
    "execution": {
     "iopub.execute_input": "2025-01-27T04:13:47.452264Z",
     "iopub.status.busy": "2025-01-27T04:13:47.451790Z",
     "iopub.status.idle": "2025-01-27T04:13:47.505062Z",
     "shell.execute_reply": "2025-01-27T04:13:47.504221Z",
     "shell.execute_reply.started": "2025-01-27T04:13:47.452235Z"
    }
   },
   "outputs": [
    {
     "name": "stdout",
     "output_type": "stream",
     "text": [
      "[0.8197449624090778, 0.5308868427492645, 0.5028442619238186, 0.4995386172610889, 0.49937819430249747, 0.49931240314076375, 0.49918638510390123, 0.49912497908114684, 0.4990325001190313, 0.4990215235860684]\n",
      "[0.8317000337834024, 0.5169104626699393, 0.49718561775888426, 0.5011928513061346, 0.5005702540955568, 0.5006068139493652, 0.5008833946587745, 0.5008108438155788, 0.5010201633086672, 0.5009557607243771]\n"
     ]
    }
   ],
   "source": [
    "# 4 In this subpart, use the entire training set for training the models.\n",
    "# Compute the performance of the 10 models on the test set. \n",
    "\n",
    "train_errors = []\n",
    "test_errors = []\n",
    "\n",
    "\n",
    "for d in range(1, max_degree + 1):\n",
    "    # Train the model on the entire training set\n",
    "    poly = PolynomialFeatures(degree=d)\n",
    "    X_train_poly = poly.fit_transform(X_train)\n",
    "    model = LinearRegression().fit(X_train_poly, Y_train)\n",
    "    \n",
    "    # Compute training MSE\n",
    "    Y_train_pred = model.predict(X_train_poly)\n",
    "    train_errors.append(mean_squared_error(Y_train, Y_train_pred))\n",
    "    \n",
    "    # Compute test MSE\n",
    "    X_test_poly = poly.transform(X_test)\n",
    "    Y_test_pred = model.predict(X_test_poly)\n",
    "    test_errors.append(mean_squared_error(Y_test, Y_test_pred))\n",
    "\n",
    "print(train_errors)\n",
    "print(test_errors)"
   ]
  },
  {
   "cell_type": "code",
   "execution_count": 435,
   "id": "9de1bd9c-2503-4838-a884-b517a21e6bd0",
   "metadata": {
    "execution": {
     "iopub.execute_input": "2025-01-27T04:13:49.036256Z",
     "iopub.status.busy": "2025-01-27T04:13:49.035945Z",
     "iopub.status.idle": "2025-01-27T04:13:49.274035Z",
     "shell.execute_reply": "2025-01-27T04:13:49.273310Z",
     "shell.execute_reply.started": "2025-01-27T04:13:49.036237Z"
    }
   },
   "outputs": [
    {
     "data": {
      "image/png": "[encoded data removed]",
      "text/plain": [
       "<Figure size 640x480 with 1 Axes>"
      ]
     },
     "metadata": {},
     "output_type": "display_data"
    }
   ],
   "source": [
    "# 4 Plot the test MSE and training MSE as a function of d\n",
    "plt.plot(range(1, max_degree + 1), train_errors, marker='o', label='Training Error')\n",
    "plt.plot(range(1, max_degree + 1), test_errors, marker='o', label='Test Error')\n",
    "plt.xlabel('Polynomial Degree (d)')\n",
    "plt.ylabel('MSE')\n",
    "plt.title('Training and Test Error vs Degree')\n",
    "plt.legend()\n",
    "\n",
    "plt.tight_layout()\n",
    "plt.show()"
   ]
  },
  {
   "cell_type": "code",
   "execution_count": 438,
   "id": "860faa01-ee97-4d05-a385-0a064d85aeb1",
   "metadata": {
    "execution": {
     "iopub.execute_input": "2025-01-27T04:13:49.947788Z",
     "iopub.status.busy": "2025-01-27T04:13:49.947389Z",
     "iopub.status.idle": "2025-01-27T04:13:49.965023Z",
     "shell.execute_reply": "2025-01-27T04:13:49.964102Z",
     "shell.execute_reply.started": "2025-01-27T04:13:49.947760Z"
    }
   },
   "outputs": [
    {
     "name": "stdout",
     "output_type": "stream",
     "text": [
      "The optimal degree based on cross-validation is d = 5\n"
     ]
    }
   ],
   "source": [
    "optimal_d = np.argmin(cv_errors) + 1\n",
    "print(f\"The optimal degree based on cross-validation is d = {optimal_d}\")"
   ]
  },
  {
   "cell_type": "markdown",
   "id": "75ae71ca",
   "metadata": {},
   "source": [
    "### Our Observations:\n",
    "<ul>\n",
    "    <li>We see that from k-fold cross validation approach, we are seeing minimum mse scroes at d = 5.</li>\n",
    "    <li>This makes sense because if we choose lower value of d, we might end up underfitting as for lower polynomial functions, we miss on capturing the true relationship</li>\n",
    "    <li>On contrast, if we choose higher value of d, we might overfit the model and capture unnecessary noise. An optimal d balances out and is suggested to avoid both overfitting and underitting</li>\n",
    "</ul>"
   ]
  },
  {
   "cell_type": "markdown",
   "id": "def1d7b9-41ff-4074-9100-4c99caa34c95",
   "metadata": {},
   "source": [
    "# Question 2"
   ]
  },
  {
   "cell_type": "code",
   "execution_count": 443,
   "id": "17d6cbe6-89be-4477-9add-94e45336347c",
   "metadata": {
    "execution": {
     "iopub.execute_input": "2025-01-27T04:13:53.407479Z",
     "iopub.status.busy": "2025-01-27T04:13:53.407104Z",
     "iopub.status.idle": "2025-01-27T04:13:53.420836Z",
     "shell.execute_reply": "2025-01-27T04:13:53.419966Z",
     "shell.execute_reply.started": "2025-01-27T04:13:53.407453Z"
    }
   },
   "outputs": [],
   "source": [
    "# 1 For each of the simulated training dataset you generated,\n",
    "# train 10 different models (d ∈ [1, . . . , 10]. ) Store and compute the prediction for x = 1.01"
   ]
  },
  {
   "cell_type": "code",
   "execution_count": 446,
   "id": "082673a9-e1dc-4f18-8964-be5712f29ecb",
   "metadata": {
    "execution": {
     "iopub.execute_input": "2025-01-27T04:13:54.707663Z",
     "iopub.status.busy": "2025-01-27T04:13:54.707337Z",
     "iopub.status.idle": "2025-01-27T04:14:19.666157Z",
     "shell.execute_reply": "2025-01-27T04:14:19.665464Z",
     "shell.execute_reply.started": "2025-01-27T04:13:54.707638Z"
    }
   },
   "outputs": [
    {
     "name": "stderr",
     "output_type": "stream",
     "text": [
      "100%|██████████| 1000/1000 [00:24<00:00, 40.11it/s]\n"
     ]
    }
   ],
   "source": [
    "n = 100  # Number of data points per dataset\n",
    "num_datasets = 1000  # Number of datasets\n",
    "degrees = range(1, 11)  # Degrees of the polynomial models\n",
    "x_test = 1.01  # New test point\n",
    "true_function = lambda x: 3 * x**5 + 2 * x**2  # True function\n",
    "\n",
    "bias_squared = []\n",
    "variance = []\n",
    "predictions_per_d = {d: [] for d in degrees} \n",
    "\n",
    "\n",
    "for i in trange(num_datasets):\n",
    "   \n",
    "    X_train = np.random.uniform(0, 1, n).reshape(-1, 1)\n",
    "    epsilon = np.random.normal(0, np.sqrt(0.5), n)\n",
    "    y_train = 3 * X_train**5 + 2 * X_train**2 + epsilon\n",
    "\n",
    "    for d in degrees:\n",
    "        poly = PolynomialFeatures(degree=d)\n",
    "        X_poly_train = poly.fit_transform(X_train)\n",
    "        model = LinearRegression()\n",
    "        model.fit(X_poly_train, y_train)\n",
    "\n",
    "        X_test_poly = poly.transform([[x_test]])\n",
    "        prediction = model.predict(X_test_poly)[0][0]\n",
    "        predictions_per_d[d].append(prediction)"
   ]
  },
  {
   "cell_type": "code",
   "execution_count": 448,
   "id": "4fb7da56-6f1e-481e-8b8e-c5e5541c1462",
   "metadata": {
    "execution": {
     "iopub.execute_input": "2025-01-27T04:14:19.692620Z",
     "iopub.status.busy": "2025-01-27T04:14:19.692327Z",
     "iopub.status.idle": "2025-01-27T04:14:19.713819Z",
     "shell.execute_reply": "2025-01-27T04:14:19.713143Z",
     "shell.execute_reply.started": "2025-01-27T04:14:19.692592Z"
    }
   },
   "outputs": [],
   "source": [
    "# 2. Calculate the bias and variance of the prediction value. Plot the bias and variance as a function of d"
   ]
  },
  {
   "cell_type": "code",
   "execution_count": 452,
   "id": "4af2d2bf-1acd-4d8a-bc24-84f066e19eac",
   "metadata": {
    "execution": {
     "iopub.execute_input": "2025-01-27T04:14:22.089647Z",
     "iopub.status.busy": "2025-01-27T04:14:22.088965Z",
     "iopub.status.idle": "2025-01-27T04:14:22.118949Z",
     "shell.execute_reply": "2025-01-27T04:14:22.118022Z",
     "shell.execute_reply.started": "2025-01-27T04:14:22.089616Z"
    }
   },
   "outputs": [
    {
     "name": "stderr",
     "output_type": "stream",
     "text": [
      "100%|██████████| 10/10 [00:00<00:00, 3337.29it/s]\n"
     ]
    }
   ],
   "source": [
    "true_value = true_function(x_test)\n",
    "for d in tqdm(degrees):\n",
    "    predictions = predictions_per_d[d]\n",
    "    mean_prediction = np.mean(predictions)\n",
    "    bias_squared.append((mean_prediction - true_value)**2)\n",
    "    variance.append(np.var(predictions))\n",
    "\n",
    "total_error = [b + v for b, v in zip(bias_squared, variance)]"
   ]
  },
  {
   "cell_type": "code",
   "execution_count": 455,
   "id": "3b8dde01",
   "metadata": {
    "execution": {
     "iopub.execute_input": "2025-01-27T04:14:24.271095Z",
     "iopub.status.busy": "2025-01-27T04:14:24.270190Z",
     "iopub.status.idle": "2025-01-27T04:14:24.491289Z",
     "shell.execute_reply": "2025-01-27T04:14:24.490462Z",
     "shell.execute_reply.started": "2025-01-27T04:14:24.271037Z"
    }
   },
   "outputs": [
    {
     "data": {
      "image/png": "[encoded data removed]",
      "text/plain": [
       "<Figure size 640x480 with 1 Axes>"
      ]
     },
     "metadata": {},
     "output_type": "display_data"
    }
   ],
   "source": [
    "plt.plot(degrees, bias_squared, label=\"Bias²\", marker='o')\n",
    "plt.plot(degrees, variance, label=\"Variance\", marker='o')\n",
    "plt.plot(degrees, total_error, label=\"Total Error\", marker='o')\n",
    "plt.title(\"Bias-Variance Tradeoff\")\n",
    "plt.xlabel(\"Model Complexity (Degree of Polynomial)\")\n",
    "plt.ylabel(\"Error\")\n",
    "plt.legend()\n",
    "plt.grid(True)\n",
    "plt.show()"
   ]
  },
  {
   "cell_type": "code",
   "execution_count": 458,
   "id": "e77a0dfd-257a-49ff-80e7-829861f8d2b0",
   "metadata": {
    "execution": {
     "iopub.execute_input": "2025-01-27T04:14:25.788185Z",
     "iopub.status.busy": "2025-01-27T04:14:25.787857Z",
     "iopub.status.idle": "2025-01-27T04:14:25.814759Z",
     "shell.execute_reply": "2025-01-27T04:14:25.813845Z",
     "shell.execute_reply.started": "2025-01-27T04:14:25.788157Z"
    }
   },
   "outputs": [
    {
     "data": {
      "text/html": [
       "<div>\n",
       "<style scoped>\n",
       "    .dataframe tbody tr th:only-of-type {\n",
       "        vertical-align: middle;\n",
       "    }\n",
       "\n",
       "    .dataframe tbody tr th {\n",
       "        vertical-align: top;\n",
       "    }\n",
       "\n",
       "    .dataframe thead th {\n",
       "        text-align: right;\n",
       "    }\n",
       "</style>\n",
       "<table border=\"1\" class=\"dataframe\">\n",
       "  <thead>\n",
       "    <tr style=\"text-align: right;\">\n",
       "      <th></th>\n",
       "      <th>Degree</th>\n",
       "      <th>Bias^2</th>\n",
       "      <th>Variance</th>\n",
       "      <th>Total Error</th>\n",
       "    </tr>\n",
       "  </thead>\n",
       "  <tbody>\n",
       "    <tr>\n",
       "      <th>0</th>\n",
       "      <td>1</td>\n",
       "      <td>3.469338</td>\n",
       "      <td>0.533427</td>\n",
       "      <td>4.002765</td>\n",
       "    </tr>\n",
       "    <tr>\n",
       "      <th>1</th>\n",
       "      <td>2</td>\n",
       "      <td>0.315304</td>\n",
       "      <td>0.512598</td>\n",
       "      <td>0.827902</td>\n",
       "    </tr>\n",
       "    <tr>\n",
       "      <th>2</th>\n",
       "      <td>3</td>\n",
       "      <td>0.008343</td>\n",
       "      <td>0.508679</td>\n",
       "      <td>0.517022</td>\n",
       "    </tr>\n",
       "    <tr>\n",
       "      <th>3</th>\n",
       "      <td>4</td>\n",
       "      <td>0.001641</td>\n",
       "      <td>0.507527</td>\n",
       "      <td>0.509168</td>\n",
       "    </tr>\n",
       "    <tr>\n",
       "      <th>4</th>\n",
       "      <td>5</td>\n",
       "      <td>0.003233</td>\n",
       "      <td>0.507306</td>\n",
       "      <td>0.510539</td>\n",
       "    </tr>\n",
       "    <tr>\n",
       "      <th>5</th>\n",
       "      <td>6</td>\n",
       "      <td>0.003233</td>\n",
       "      <td>0.507306</td>\n",
       "      <td>0.510539</td>\n",
       "    </tr>\n",
       "    <tr>\n",
       "      <th>6</th>\n",
       "      <td>7</td>\n",
       "      <td>0.003233</td>\n",
       "      <td>0.507306</td>\n",
       "      <td>0.510539</td>\n",
       "    </tr>\n",
       "    <tr>\n",
       "      <th>7</th>\n",
       "      <td>8</td>\n",
       "      <td>0.003233</td>\n",
       "      <td>0.507306</td>\n",
       "      <td>0.510539</td>\n",
       "    </tr>\n",
       "    <tr>\n",
       "      <th>8</th>\n",
       "      <td>9</td>\n",
       "      <td>0.003233</td>\n",
       "      <td>0.507306</td>\n",
       "      <td>0.510539</td>\n",
       "    </tr>\n",
       "    <tr>\n",
       "      <th>9</th>\n",
       "      <td>10</td>\n",
       "      <td>0.003233</td>\n",
       "      <td>0.507306</td>\n",
       "      <td>0.510539</td>\n",
       "    </tr>\n",
       "  </tbody>\n",
       "</table>\n",
       "</div>"
      ],
      "text/plain": [
       "   Degree    Bias^2  Variance  Total Error\n",
       "0       1  3.469338  0.533427     4.002765\n",
       "1       2  0.315304  0.512598     0.827902\n",
       "2       3  0.008343  0.508679     0.517022\n",
       "3       4  0.001641  0.507527     0.509168\n",
       "4       5  0.003233  0.507306     0.510539\n",
       "5       6  0.003233  0.507306     0.510539\n",
       "6       7  0.003233  0.507306     0.510539\n",
       "7       8  0.003233  0.507306     0.510539\n",
       "8       9  0.003233  0.507306     0.510539\n",
       "9      10  0.003233  0.507306     0.510539"
      ]
     },
     "execution_count": 458,
     "metadata": {},
     "output_type": "execute_result"
    }
   ],
   "source": [
    "df = pd.DataFrame({\n",
    "    'Degree': degrees,\n",
    "    'Bias^2': bias_squared,\n",
    "    'Variance': variance,\n",
    "    'Total Error': total_error})\n",
    "df"
   ]
  },
  {
   "cell_type": "markdown",
   "id": "5488a241",
   "metadata": {},
   "source": [
    "<p>\n",
    "    Initial Scenario, in this case, the bias decreases as the degree increases. At smaller degrees, bias is large indicating that simpler model fails to capture the function complexity. Variance remains more balanced in higher degrees. Total error seems to get stable around degree 5 (Neither overfitting, nor underfitting)\n",
    "</p>"
   ]
  },
  {
   "cell_type": "code",
   "execution_count": 462,
   "id": "488f5b2f-c553-432d-8dc0-4a505f4b7122",
   "metadata": {
    "execution": {
     "iopub.execute_input": "2025-01-27T04:14:28.071230Z",
     "iopub.status.busy": "2025-01-27T04:14:28.070859Z",
     "iopub.status.idle": "2025-01-27T04:14:28.090820Z",
     "shell.execute_reply": "2025-01-27T04:14:28.089561Z",
     "shell.execute_reply.started": "2025-01-27T04:14:28.071210Z"
    }
   },
   "outputs": [],
   "source": [
    "# 3. Consider the two cases below"
   ]
  },
  {
   "cell_type": "code",
   "execution_count": 465,
   "id": "6aa3759a-8911-4b8f-92c0-5d8f74cbcc29",
   "metadata": {
    "execution": {
     "iopub.execute_input": "2025-01-27T04:14:29.437052Z",
     "iopub.status.busy": "2025-01-27T04:14:29.436309Z",
     "iopub.status.idle": "2025-01-27T04:14:29.457187Z",
     "shell.execute_reply": "2025-01-27T04:14:29.456391Z",
     "shell.execute_reply.started": "2025-01-27T04:14:29.437024Z"
    }
   },
   "outputs": [],
   "source": [
    "n = 100  # Number of data points per dataset\n",
    "num_datasets = 1000  # Number of datasets\n",
    "degrees = range(1, 11)  # Degrees of the polynomial models\n",
    "true_function = lambda x: 3 * x**5 + 2 * x**2  # True function"
   ]
  },
  {
   "cell_type": "code",
   "execution_count": 468,
   "id": "61adcd69-e6b2-412d-9247-ac3ea1e89ef0",
   "metadata": {
    "execution": {
     "iopub.execute_input": "2025-01-27T04:14:30.891640Z",
     "iopub.status.busy": "2025-01-27T04:14:30.891346Z",
     "iopub.status.idle": "2025-01-27T04:14:30.914151Z",
     "shell.execute_reply": "2025-01-27T04:14:30.913377Z",
     "shell.execute_reply.started": "2025-01-27T04:14:30.891621Z"
    }
   },
   "outputs": [],
   "source": [
    "# a) Plot happens to bias and variance if we instead sample from Xi ∈ U [0, 10] instead\n",
    "# X_i ∈ U[0, 10]"
   ]
  },
  {
   "cell_type": "code",
   "execution_count": 471,
   "id": "ede90c10-a33b-447a-b6e9-3d2243709365",
   "metadata": {
    "execution": {
     "iopub.execute_input": "2025-01-27T04:14:32.726383Z",
     "iopub.status.busy": "2025-01-27T04:14:32.725770Z",
     "iopub.status.idle": "2025-01-27T04:14:49.382385Z",
     "shell.execute_reply": "2025-01-27T04:14:49.381359Z",
     "shell.execute_reply.started": "2025-01-27T04:14:32.726354Z"
    }
   },
   "outputs": [
    {
     "name": "stderr",
     "output_type": "stream",
     "text": [
      "100%|██████████| 1000/1000 [00:16<00:00, 60.13it/s]\n"
     ]
    }
   ],
   "source": [
    "x_test_a = 1.01 \n",
    "bias_squared_a = []\n",
    "variance_a = []\n",
    "predictions_per_d_a = {d: [] for d in degrees}\n",
    "\n",
    "for i in trange(num_datasets):\n",
    "\n",
    "    X_train_a = np.random.uniform(0, 10, n).reshape(-1, 1)\n",
    "    epsilon = np.random.normal(0, np.sqrt(0.5), n)\n",
    "    y_train_a = 3 * X_train_a**5 + 2 * X_train_a**2 + epsilon\n",
    "\n",
    "    for d in degrees:\n",
    "        poly = PolynomialFeatures(degree=d)\n",
    "        X_poly_train = poly.fit_transform(X_train_a)\n",
    "        model = LinearRegression()\n",
    "        model.fit(X_poly_train, y_train_a)\n",
    "\n",
    "        X_test_poly_a = poly.transform([[x_test_a]])\n",
    "        prediction_a = model.predict(X_test_poly_a)[0][0]\n",
    "        predictions_per_d_a[d].append(prediction_a)"
   ]
  },
  {
   "cell_type": "code",
   "execution_count": 474,
   "id": "50c30769-1cba-452b-bbcc-52fed8b15922",
   "metadata": {
    "execution": {
     "iopub.execute_input": "2025-01-27T04:14:50.960573Z",
     "iopub.status.busy": "2025-01-27T04:14:50.960292Z",
     "iopub.status.idle": "2025-01-27T04:14:51.202932Z",
     "shell.execute_reply": "2025-01-27T04:14:51.202061Z",
     "shell.execute_reply.started": "2025-01-27T04:14:50.960547Z"
    }
   },
   "outputs": [
    {
     "name": "stderr",
     "output_type": "stream",
     "text": [
      "100%|██████████| 10/10 [00:00<00:00, 3372.17it/s]\n"
     ]
    },
    {
     "data": {
      "image/png": "[encoded data removed]",
      "text/plain": [
       "<Figure size 1000x600 with 1 Axes>"
      ]
     },
     "metadata": {},
     "output_type": "display_data"
    }
   ],
   "source": [
    "true_value_a = true_function(x_test_a)\n",
    "for d in tqdm(degrees):\n",
    "    predictions_a = predictions_per_d_a[d]\n",
    "    mean_prediction_a = np.mean(predictions_a)\n",
    "    bias_squared_a.append((mean_prediction_a - true_value_a)**2)\n",
    "    variance_a.append(np.var(predictions_a))\n",
    "\n",
    "total_error_a = [b + v for b, v in zip(bias_squared_a, variance_a)]\n",
    "\n",
    "plt.figure(figsize=(10, 6))\n",
    "plt.plot(degrees, bias_squared_a, label=\"Bias² (X ∈ U[0, 10])\", marker='o')\n",
    "plt.plot(degrees, variance_a, label=\"Variance (X ∈ U[0, 10])\", marker='o')\n",
    "plt.plot(degrees, total_error_a, label=\"Total Error (X ∈ U[0, 10])\", marker='o')\n",
    "plt.title(\"Bias-Variance Tradeoff (X ∈ U[0, 10])\")\n",
    "plt.xlabel(\"Model Complexity (Degree of Polynomial)\")\n",
    "plt.ylabel(\"Error\")\n",
    "plt.legend()\n",
    "plt.grid(True)\n",
    "plt.show()"
   ]
  },
  {
   "cell_type": "code",
   "execution_count": 477,
   "id": "e186b941-2484-4bea-8609-056c23a73785",
   "metadata": {
    "execution": {
     "iopub.execute_input": "2025-01-27T04:14:52.635214Z",
     "iopub.status.busy": "2025-01-27T04:14:52.634873Z",
     "iopub.status.idle": "2025-01-27T04:14:52.658682Z",
     "shell.execute_reply": "2025-01-27T04:14:52.657310Z",
     "shell.execute_reply.started": "2025-01-27T04:14:52.635192Z"
    }
   },
   "outputs": [
    {
     "data": {
      "text/html": [
       "<div>\n",
       "<style scoped>\n",
       "    .dataframe tbody tr th:only-of-type {\n",
       "        vertical-align: middle;\n",
       "    }\n",
       "\n",
       "    .dataframe tbody tr th {\n",
       "        vertical-align: top;\n",
       "    }\n",
       "\n",
       "    .dataframe thead th {\n",
       "        text-align: right;\n",
       "    }\n",
       "</style>\n",
       "<table border=\"1\" class=\"dataframe\">\n",
       "  <thead>\n",
       "    <tr style=\"text-align: right;\">\n",
       "      <th></th>\n",
       "      <th>Degree</th>\n",
       "      <th>Bias^2</th>\n",
       "      <th>Variance</th>\n",
       "      <th>Total Error</th>\n",
       "    </tr>\n",
       "  </thead>\n",
       "  <tbody>\n",
       "    <tr>\n",
       "      <th>0</th>\n",
       "      <td>1</td>\n",
       "      <td>1.317035e+09</td>\n",
       "      <td>4.958550e+07</td>\n",
       "      <td>1.366620e+09</td>\n",
       "    </tr>\n",
       "    <tr>\n",
       "      <th>1</th>\n",
       "      <td>2</td>\n",
       "      <td>3.342743e+07</td>\n",
       "      <td>1.567758e+07</td>\n",
       "      <td>4.910500e+07</td>\n",
       "    </tr>\n",
       "    <tr>\n",
       "      <th>2</th>\n",
       "      <td>3</td>\n",
       "      <td>3.492734e+06</td>\n",
       "      <td>1.122362e+06</td>\n",
       "      <td>4.615096e+06</td>\n",
       "    </tr>\n",
       "    <tr>\n",
       "      <th>3</th>\n",
       "      <td>4</td>\n",
       "      <td>2.104719e+05</td>\n",
       "      <td>1.223862e+04</td>\n",
       "      <td>2.227105e+05</td>\n",
       "    </tr>\n",
       "    <tr>\n",
       "      <th>4</th>\n",
       "      <td>5</td>\n",
       "      <td>9.501462e-04</td>\n",
       "      <td>5.349732e-01</td>\n",
       "      <td>5.359233e-01</td>\n",
       "    </tr>\n",
       "    <tr>\n",
       "      <th>5</th>\n",
       "      <td>6</td>\n",
       "      <td>9.501462e-04</td>\n",
       "      <td>5.349732e-01</td>\n",
       "      <td>5.359233e-01</td>\n",
       "    </tr>\n",
       "    <tr>\n",
       "      <th>6</th>\n",
       "      <td>7</td>\n",
       "      <td>9.501462e-04</td>\n",
       "      <td>5.349732e-01</td>\n",
       "      <td>5.359233e-01</td>\n",
       "    </tr>\n",
       "    <tr>\n",
       "      <th>7</th>\n",
       "      <td>8</td>\n",
       "      <td>9.501462e-04</td>\n",
       "      <td>5.349732e-01</td>\n",
       "      <td>5.359233e-01</td>\n",
       "    </tr>\n",
       "    <tr>\n",
       "      <th>8</th>\n",
       "      <td>9</td>\n",
       "      <td>9.501462e-04</td>\n",
       "      <td>5.349732e-01</td>\n",
       "      <td>5.359233e-01</td>\n",
       "    </tr>\n",
       "    <tr>\n",
       "      <th>9</th>\n",
       "      <td>10</td>\n",
       "      <td>9.501462e-04</td>\n",
       "      <td>5.349732e-01</td>\n",
       "      <td>5.359233e-01</td>\n",
       "    </tr>\n",
       "  </tbody>\n",
       "</table>\n",
       "</div>"
      ],
      "text/plain": [
       "   Degree        Bias^2      Variance   Total Error\n",
       "0       1  1.317035e+09  4.958550e+07  1.366620e+09\n",
       "1       2  3.342743e+07  1.567758e+07  4.910500e+07\n",
       "2       3  3.492734e+06  1.122362e+06  4.615096e+06\n",
       "3       4  2.104719e+05  1.223862e+04  2.227105e+05\n",
       "4       5  9.501462e-04  5.349732e-01  5.359233e-01\n",
       "5       6  9.501462e-04  5.349732e-01  5.359233e-01\n",
       "6       7  9.501462e-04  5.349732e-01  5.359233e-01\n",
       "7       8  9.501462e-04  5.349732e-01  5.359233e-01\n",
       "8       9  9.501462e-04  5.349732e-01  5.359233e-01\n",
       "9      10  9.501462e-04  5.349732e-01  5.359233e-01"
      ]
     },
     "execution_count": 477,
     "metadata": {},
     "output_type": "execute_result"
    }
   ],
   "source": [
    "df_a = pd.DataFrame({\n",
    "    'Degree': degrees,\n",
    "    'Bias^2': bias_squared_a,\n",
    "    'Variance': variance_a,\n",
    "    'Total Error': total_error_a})\n",
    "df_a"
   ]
  },
  {
   "cell_type": "markdown",
   "id": "2d82693e",
   "metadata": {},
   "source": [
    "<p>\n",
    "    In Xi ∈ U [0, 10] Scenario Bias decreases drastically as we move to higher degrees, and for degree = 0, bias is huge. This suggests that simpler models (lower degree) are not able to capture the patterns, as we are increasing the range of X Variance is higher at lower degrees, (degree 0 and 1), which says that  model is not able to generalize well. This is due to the wider input range and more complex relationships\n",
    "</p>"
   ]
  },
  {
   "cell_type": "code",
   "execution_count": 481,
   "id": "6205e9b6-3805-4ca6-a8ef-0690124c8584",
   "metadata": {
    "execution": {
     "iopub.execute_input": "2025-01-27T04:14:54.891672Z",
     "iopub.status.busy": "2025-01-27T04:14:54.891375Z",
     "iopub.status.idle": "2025-01-27T04:14:54.908989Z",
     "shell.execute_reply": "2025-01-27T04:14:54.908235Z",
     "shell.execute_reply.started": "2025-01-27T04:14:54.891645Z"
    }
   },
   "outputs": [],
   "source": [
    "# b) Plot what happens to bias and variance if we instead use test point x = -0.5 ?\n",
    "# x_test = -0.5"
   ]
  },
  {
   "cell_type": "code",
   "execution_count": 484,
   "id": "215861d0-88d3-4a00-8439-7891d5353bb8",
   "metadata": {
    "execution": {
     "iopub.execute_input": "2025-01-27T04:14:56.184969Z",
     "iopub.status.busy": "2025-01-27T04:14:56.184658Z",
     "iopub.status.idle": "2025-01-27T04:15:16.596725Z",
     "shell.execute_reply": "2025-01-27T04:15:16.595850Z",
     "shell.execute_reply.started": "2025-01-27T04:14:56.184947Z"
    }
   },
   "outputs": [
    {
     "name": "stderr",
     "output_type": "stream",
     "text": [
      "100%|██████████| 1000/1000 [00:20<00:00, 49.04it/s]\n"
     ]
    }
   ],
   "source": [
    "x_test_b = -0.5  \n",
    "bias_squared_b = []\n",
    "variance_b = []\n",
    "predictions_per_d_b = {d: [] for d in degrees}\n",
    "\n",
    "for i in trange(num_datasets):\n",
    "  \n",
    "    X_train_b = np.random.uniform(0, 1, n).reshape(-1, 1)\n",
    "    epsilon = np.random.normal(0, np.sqrt(0.5), n)\n",
    "    y_train_b = 3 * X_train_b**5 + 2 * X_train_b**2 + epsilon\n",
    "\n",
    "    for d in degrees:\n",
    "        poly = PolynomialFeatures(degree=d)\n",
    "        X_poly_train = poly.fit_transform(X_train_b)\n",
    "        model = LinearRegression()\n",
    "        model.fit(X_poly_train, y_train_b)\n",
    "\n",
    "        X_test_poly_b = poly.transform([[x_test_b]])\n",
    "        prediction_b = model.predict(X_test_poly_b)[0][0]\n",
    "        predictions_per_d_b[d].append(prediction_b)"
   ]
  },
  {
   "cell_type": "code",
   "execution_count": 486,
   "id": "f3f3481d-5233-4759-bdaf-5ac8983e18bd",
   "metadata": {
    "execution": {
     "iopub.execute_input": "2025-01-27T04:15:16.624747Z",
     "iopub.status.busy": "2025-01-27T04:15:16.623910Z",
     "iopub.status.idle": "2025-01-27T04:15:16.857665Z",
     "shell.execute_reply": "2025-01-27T04:15:16.856735Z",
     "shell.execute_reply.started": "2025-01-27T04:15:16.624726Z"
    }
   },
   "outputs": [
    {
     "name": "stderr",
     "output_type": "stream",
     "text": [
      "100%|██████████| 10/10 [00:00<00:00, 3189.34it/s]\n"
     ]
    },
    {
     "data": {
      "image/png": "[encoded data removed]",
      "text/plain": [
       "<Figure size 1000x600 with 1 Axes>"
      ]
     },
     "metadata": {},
     "output_type": "display_data"
    }
   ],
   "source": [
    "true_value_b = true_function(x_test_b)\n",
    "for d in tqdm(degrees):\n",
    "    predictions_b = predictions_per_d_b[d]\n",
    "    mean_prediction_b = np.mean(predictions_b)\n",
    "    bias_squared_b.append((mean_prediction_b - true_value_b)**2)\n",
    "    variance_b.append(np.var(predictions_b))\n",
    "\n",
    "total_error_b = [b + v for b, v in zip(bias_squared_b, variance_b)]\n",
    "\n",
    "plt.figure(figsize=(10, 6))\n",
    "plt.plot(degrees, bias_squared_b, label=\"Bias² (x_test = -0.5)\", marker='o')\n",
    "plt.plot(degrees, variance_b, label=\"Variance (x_test = -0.5)\", marker='o')\n",
    "plt.plot(degrees, total_error_b, label=\"Total Error (x_test = -0.5)\", marker='o')\n",
    "plt.title(\"Bias-Variance Tradeoff (x_test = -0.5)\")\n",
    "plt.xlabel(\"Model Complexity (Degree of Polynomial)\")\n",
    "plt.ylabel(\"Error\")\n",
    "plt.legend()\n",
    "plt.grid(True)\n",
    "plt.show()\n"
   ]
  },
  {
   "cell_type": "code",
   "execution_count": 490,
   "id": "4874a4c6-9763-4f2d-80f6-f46ced496f18",
   "metadata": {
    "execution": {
     "iopub.execute_input": "2025-01-27T04:15:18.419770Z",
     "iopub.status.busy": "2025-01-27T04:15:18.419041Z",
     "iopub.status.idle": "2025-01-27T04:15:18.445390Z",
     "shell.execute_reply": "2025-01-27T04:15:18.444362Z",
     "shell.execute_reply.started": "2025-01-27T04:15:18.419749Z"
    }
   },
   "outputs": [
    {
     "data": {
      "text/html": [
       "<div>\n",
       "<style scoped>\n",
       "    .dataframe tbody tr th:only-of-type {\n",
       "        vertical-align: middle;\n",
       "    }\n",
       "\n",
       "    .dataframe tbody tr th {\n",
       "        vertical-align: top;\n",
       "    }\n",
       "\n",
       "    .dataframe thead th {\n",
       "        text-align: right;\n",
       "    }\n",
       "</style>\n",
       "<table border=\"1\" class=\"dataframe\">\n",
       "  <thead>\n",
       "    <tr style=\"text-align: right;\">\n",
       "      <th></th>\n",
       "      <th>Degree</th>\n",
       "      <th>Bias^2</th>\n",
       "      <th>Variance</th>\n",
       "      <th>Total Error</th>\n",
       "    </tr>\n",
       "  </thead>\n",
       "  <tbody>\n",
       "    <tr>\n",
       "      <th>0</th>\n",
       "      <td>1</td>\n",
       "      <td>11.702824</td>\n",
       "      <td>0.572484</td>\n",
       "      <td>12.275308</td>\n",
       "    </tr>\n",
       "    <tr>\n",
       "      <th>1</th>\n",
       "      <td>2</td>\n",
       "      <td>11.192164</td>\n",
       "      <td>0.595376</td>\n",
       "      <td>11.787540</td>\n",
       "    </tr>\n",
       "    <tr>\n",
       "      <th>2</th>\n",
       "      <td>3</td>\n",
       "      <td>14.143196</td>\n",
       "      <td>0.572034</td>\n",
       "      <td>14.715230</td>\n",
       "    </tr>\n",
       "    <tr>\n",
       "      <th>3</th>\n",
       "      <td>4</td>\n",
       "      <td>4.834945</td>\n",
       "      <td>0.531084</td>\n",
       "      <td>5.366030</td>\n",
       "    </tr>\n",
       "    <tr>\n",
       "      <th>4</th>\n",
       "      <td>5</td>\n",
       "      <td>0.000532</td>\n",
       "      <td>0.513563</td>\n",
       "      <td>0.514095</td>\n",
       "    </tr>\n",
       "    <tr>\n",
       "      <th>5</th>\n",
       "      <td>6</td>\n",
       "      <td>0.000532</td>\n",
       "      <td>0.513563</td>\n",
       "      <td>0.514095</td>\n",
       "    </tr>\n",
       "    <tr>\n",
       "      <th>6</th>\n",
       "      <td>7</td>\n",
       "      <td>0.000532</td>\n",
       "      <td>0.513563</td>\n",
       "      <td>0.514095</td>\n",
       "    </tr>\n",
       "    <tr>\n",
       "      <th>7</th>\n",
       "      <td>8</td>\n",
       "      <td>0.000532</td>\n",
       "      <td>0.513563</td>\n",
       "      <td>0.514095</td>\n",
       "    </tr>\n",
       "    <tr>\n",
       "      <th>8</th>\n",
       "      <td>9</td>\n",
       "      <td>0.000532</td>\n",
       "      <td>0.513563</td>\n",
       "      <td>0.514095</td>\n",
       "    </tr>\n",
       "    <tr>\n",
       "      <th>9</th>\n",
       "      <td>10</td>\n",
       "      <td>0.000532</td>\n",
       "      <td>0.513563</td>\n",
       "      <td>0.514095</td>\n",
       "    </tr>\n",
       "  </tbody>\n",
       "</table>\n",
       "</div>"
      ],
      "text/plain": [
       "   Degree     Bias^2  Variance  Total Error\n",
       "0       1  11.702824  0.572484    12.275308\n",
       "1       2  11.192164  0.595376    11.787540\n",
       "2       3  14.143196  0.572034    14.715230\n",
       "3       4   4.834945  0.531084     5.366030\n",
       "4       5   0.000532  0.513563     0.514095\n",
       "5       6   0.000532  0.513563     0.514095\n",
       "6       7   0.000532  0.513563     0.514095\n",
       "7       8   0.000532  0.513563     0.514095\n",
       "8       9   0.000532  0.513563     0.514095\n",
       "9      10   0.000532  0.513563     0.514095"
      ]
     },
     "execution_count": 490,
     "metadata": {},
     "output_type": "execute_result"
    }
   ],
   "source": [
    "df_b = pd.DataFrame({\n",
    "    'Degree': degrees,\n",
    "    'Bias^2': bias_squared_b,\n",
    "    'Variance': variance_b,\n",
    "    'Total Error': total_error_b})\n",
    "df_b"
   ]
  },
  {
   "cell_type": "markdown",
   "id": "3d99f71e",
   "metadata": {},
   "source": [
    "<p>\n",
    "    In x = -0.5 Scenario, bias decreases as the degree increases. This suggests that the model is underfitting at lower degrees and becomes more accurate as the degree increases. Variance is relatively stable and small across all degrees, particularly starting from degree 4 onward.\n",
    "</p>"
   ]
  },
  {
   "cell_type": "markdown",
   "id": "2373ea82",
   "metadata": {},
   "source": [
    "### Can you explain why do the plots look like above ? What are the implications ? Can we mitigate any of the issues \n",
    "<p>\n",
    "   Initial Scenario: The Scale of bias and variance is almost same (there is good balance) Although both bias and variance decrease as we go to higher degree model. \n",
    "</p>\n",
    "\n",
    "<p>\n",
    "    Case a: Here X ranges are wider and Bias is very high for simpler models \n",
    "    <ul>\n",
    "        <li>Takeaway: If range of input increases, simple models exhibit higher bias and variance</li>\n",
    "        <li>Mitigation:  We may use feature scaling like normalization, so that scale of input doesnt imapct model performance</li>\n",
    "    </ul>\n",
    "</p>\n",
    "\n",
    "<p>\n",
    "    Case b: Here bias decreases as the polynomial degree increases. \n",
    "    <ul>\n",
    "        <li>Takeaway: Implication: Model has high bias for points outside the range. we should be cautious when making predictions for such points.</li>\n",
    "        <li>Mitigation: Mitigation: We should ensure that test points lie within or atleast nearby the training data range </li>\n",
    "    </ul>\n",
    "</p>"
   ]
  },
  {
   "cell_type": "code",
   "execution_count": null,
   "id": "fa69fc6b-b147-4352-ac82-b8678ca57f75",
   "metadata": {},
   "outputs": [],
   "source": []
  },
  {
   "cell_type": "markdown",
   "id": "bef0bb58",
   "metadata": {},
   "source": [
    "### Regularized parameter derivation"
   ]
  },
  {
   "cell_type": "markdown",
   "id": "8e56b09d",
   "metadata": {},
   "source": [
    "<p>\n",
    "   Consider the regularized model with n = p (number of predictors same as the number of samples). Consider the special case with X is the diagnol matrix. (i.e. the $i^{th}$ sample point is $(y_i, 0, . . . , 1, . . . , 0)$ (1 in the $i^{th}$ position of X) Assume that the intercept term is 0.(y is centered) \n",
    "</p>"
   ]
  },
  {
   "cell_type": "markdown",
   "id": "3372e003",
   "metadata": {},
   "source": [
    "<li>Derive the ridge and lasso parameters $w_r$ and $w_l$ in terms of y and the penalty parameter $\\lambda$.</li>\n",
    "<li>In case of lasso you can write the solution in terms of least square solution and the penalty parameter $\\lambda$.</li>"
   ]
  },
  {
   "cell_type": "markdown",
   "id": "6f7a1c70",
   "metadata": {},
   "source": [
    "#### Create Dataset"
   ]
  },
  {
   "cell_type": "code",
   "execution_count": 501,
   "id": "d991f1be",
   "metadata": {
    "execution": {
     "iopub.execute_input": "2025-01-27T04:15:32.989376Z",
     "iopub.status.busy": "2025-01-27T04:15:32.988516Z",
     "iopub.status.idle": "2025-01-27T04:15:33.010170Z",
     "shell.execute_reply": "2025-01-27T04:15:33.009562Z",
     "shell.execute_reply.started": "2025-01-27T04:15:32.989348Z"
    }
   },
   "outputs": [
    {
     "name": "stdout",
     "output_type": "stream",
     "text": [
      "[[1. 0. 0. ... 0. 0. 0.]\n",
      " [0. 1. 0. ... 0. 0. 0.]\n",
      " [0. 0. 1. ... 0. 0. 0.]\n",
      " ...\n",
      " [0. 0. 0. ... 1. 0. 0.]\n",
      " [0. 0. 0. ... 0. 1. 0.]\n",
      " [0. 0. 0. ... 0. 0. 1.]]\n"
     ]
    }
   ],
   "source": [
    "# X is diagonal matrix and n = p\n",
    "n = 100\n",
    "X = np.eye(100)\n",
    "print(X)"
   ]
  },
  {
   "cell_type": "markdown",
   "id": "b8d5ba97",
   "metadata": {},
   "source": [
    "Y is centered i.e. $\\sum y_i = 0$"
   ]
  },
  {
   "cell_type": "code",
   "execution_count": 505,
   "id": "b114cdd1",
   "metadata": {
    "execution": {
     "iopub.execute_input": "2025-01-27T04:15:35.053153Z",
     "iopub.status.busy": "2025-01-27T04:15:35.052828Z",
     "iopub.status.idle": "2025-01-27T04:15:35.068760Z",
     "shell.execute_reply": "2025-01-27T04:15:35.067979Z",
     "shell.execute_reply.started": "2025-01-27T04:15:35.053133Z"
    }
   },
   "outputs": [
    {
     "name": "stdout",
     "output_type": "stream",
     "text": [
      "0.0\n"
     ]
    }
   ],
   "source": [
    "# Generate n random values for y and subtract mean to make it centered\n",
    "np.random.seed(42)\n",
    "y_rand = np.random.randn(n)\n",
    "y = y_rand - np.mean(y_rand)\n",
    "print(np.round(sum(y),2))"
   ]
  },
  {
   "cell_type": "markdown",
   "id": "e7015059",
   "metadata": {},
   "source": [
    "### 1. Derive the ridge and lasso parameters $w_r$ and $w_l$ in terms of y and the penalty parameter $\\lambda$."
   ]
  },
  {
   "cell_type": "markdown",
   "id": "a2d2ef59",
   "metadata": {},
   "source": [
    "<p>\n",
    "    Linear Regression Equation: $y = wX + \\epsilon$. Since Intercept is 0 which means the $\\epsilon$ = 0.\n",
    "    i.e., $y = wX$ <br>\n",
    "    <b>Case 1: Using Ridge regularization</b>, <br>\n",
    "    The loss function can be defined as:\n",
    "    $ L(w) = \\frac{1}{2} \\sum_{i=1}^n (w_i X_i - y_i)^2 + \\lambda \\sum_{i=i}^n (w_{i}^2) $ <br>\n",
    "    Since, X is a diagonal matrix, the equation becomes $ L(w) = \\frac{1}{2} \\sum_{i=1}^n (w_i - y_i)^2 + \\lambda \\sum_{i=i}^n (w_{i}^2) $\n",
    "    <br><br>\n",
    "    Minimizing Loss function:\n",
    "    $ \\frac{\\partial L(w)}{\\partial w_i} = 2(w_i - y) + 2 \\lambda w_i = 0 $ <br>\n",
    "    $\\implies w_i(1+\\lambda) - y = 0 $  i.e.,  $ w_i = \\frac{y}{1+\\lambda}$ <br>\n",
    "    Hence, Ridge parameter in terms of y and penalty parameter $\\lambda$ is $ w_r = \\frac{y}{1+\\lambda}$\n",
    "</p>\n",
    "\n",
    "<p>\n",
    "    <b>Case 2: Using Lasso regularization</b> <br>\n",
    "    The loss function can be defined as:\n",
    "    $ L(w) = \\frac{1}{2} \\sum_{i=1}^n (w_i X_i - y_i)^2 + \\lambda \\sum_{i=i}^n |w_{i}| $ <br>\n",
    "    Since, X is a diagonal matrix, the equation becomes $ L(w) = \\frac{1}{2} \\sum_{i=1}^n (w_i - y_i)^2 + \\lambda \\sum_{i=i}^n |w_{i}| $\n",
    "    <br><br>\n",
    "    Minimizing Loss function:\n",
    "    $ \\frac{\\partial L(w)}{\\partial w_i} = (w_i - y_i) + \\lambda.sign(w_i) = 0 $ (Taking non zero value of $w_i) $ <br>\n",
    "    for $w_i > 0: w_i = y_i - \\lambda$ (It also means $y_i > \\lambda$, otherwise it would contradict the initial assumption) <br>\n",
    "    for $w_i < 0$: \n",
    "    $w_i = y_i + \\lambda$ (i.e., $-y_i > \\lambda$)<br>\n",
    "    and $w_i = 0$ when $|y_i| \\leq \\lambda$ <br> <br> <br>\n",
    "    <b>In terms of least square solution</b> : The least square solution without regularization is $y_{hat} = (X^TX)^{-1}(X^Ty)$ <br>\n",
    "    Since, X is an identity matrix $X^TX = I$ i.e., $y_{hat} = y$ <br>\n",
    "    With Lasso regularizer, the loss function is:\n",
    "    $L(w) = \\frac{1}{2} \\|y - Xw\\|^2 + \\lambda \\|w\\|_1$ <br>\n",
    "    Using\n",
    "    $\\|y - Xw\\|^2 = (y - Xw)^T (y - Xw) = y^T y - 2y^T Xw + w^T X^T Xw $ in the above loss function<br>\n",
    "    The equation becomes: $L(w) = \\frac{1}{2} \\left( y^T y - 2y^T Xw + w^T X^T Xw \\right) + \\lambda \\sum_{i=1}^p |w_i|$ <br>\n",
    "    Minimizing the loss function and solving the equation for 0 to find the minima:\n",
    "    $\\frac{\\partial L}{\\partial w} = -X^T y + X^T Xw + \\lambda \\cdot \\text{sign}(w)$ <br>\n",
    "    $\\implies -X^T y + X^T Xw + \\lambda \\cdot \\text{sign}(w) = 0$ <br>\n",
    "    $\\implies X^T Xw = X^T y - \\lambda \\cdot \\text{sign}(w)$ <br>\n",
    "    Hence, Lasso parameter in terms of y and $\\lambda$ is: <br>\n",
    "    $w_l = y_i - \\lambda \\cdot \\text{sign}(w_i), \\quad \\text{if } |y_i| > \\lambda$ <br>\n",
    "    $w_l = 0, \\quad \\text{if } |y_i| \\leq \\lambda$\n",
    "\n",
    "\n",
    "\n",
    "</p>"
   ]
  },
  {
   "cell_type": "code",
   "execution_count": null,
   "id": "f9613cc3",
   "metadata": {},
   "outputs": [],
   "source": [
    "#pip install --upgrade scikit-learn\n"
   ]
  },
  {
   "cell_type": "code",
   "execution_count": null,
   "id": "eb3aeb12-ac30-4c09-b884-f7089b54f88b",
   "metadata": {},
   "outputs": [],
   "source": [
    "pip show scikit-learn\n"
   ]
  },
  {
   "cell_type": "code",
   "execution_count": null,
   "id": "b8f59cae-c654-46dd-bd28-842071251f72",
   "metadata": {},
   "outputs": [],
   "source": [
    "pip install scikit-learn==1.2.2"
   ]
  },
  {
   "cell_type": "markdown",
   "id": "3fbac8fb",
   "metadata": {},
   "source": [
    "### Credit Card Fraud Detection for Imbalanced Dataset"
   ]
  },
  {
   "cell_type": "code",
   "execution_count": 3,
   "id": "42ecae14",
   "metadata": {
    "execution": {
     "iopub.execute_input": "2025-01-27T03:24:00.762286Z",
     "iopub.status.busy": "2025-01-27T03:24:00.762055Z",
     "iopub.status.idle": "2025-01-27T03:24:07.804365Z",
     "shell.execute_reply": "2025-01-27T03:24:07.803102Z",
     "shell.execute_reply.started": "2025-01-27T03:24:00.762265Z"
    }
   },
   "outputs": [],
   "source": [
    "from IPython.display import HTML\n",
    "from sklearn.preprocessing import StandardScaler, OneHotEncoder\n",
    "from sklearn.linear_model import LogisticRegression\n",
    "from sklearn.metrics import classification_report, confusion_matrix, roc_auc_score\n",
    "from imblearn.over_sampling import SMOTE\n",
    "import seaborn as sns"
   ]
  },
  {
   "cell_type": "code",
   "execution_count": 132,
   "id": "e3f5a617",
   "metadata": {
    "execution": {
     "iopub.execute_input": "2025-01-27T03:40:03.206186Z",
     "iopub.status.busy": "2025-01-27T03:40:03.205913Z",
     "iopub.status.idle": "2025-01-27T03:40:05.576015Z",
     "shell.execute_reply": "2025-01-27T03:40:05.575373Z",
     "shell.execute_reply.started": "2025-01-27T03:40:03.206156Z"
    }
   },
   "outputs": [
    {
     "data": {
      "text/html": [
       "<table border=\"1\" class=\"dataframe\">\n",
       "  <thead>\n",
       "    <tr style=\"text-align: right;\">\n",
       "      <th></th>\n",
       "      <th>Time</th>\n",
       "      <th>V1</th>\n",
       "      <th>V2</th>\n",
       "      <th>V3</th>\n",
       "      <th>V4</th>\n",
       "      <th>V5</th>\n",
       "      <th>V6</th>\n",
       "      <th>V7</th>\n",
       "      <th>V8</th>\n",
       "      <th>V9</th>\n",
       "      <th>V10</th>\n",
       "      <th>V11</th>\n",
       "      <th>V12</th>\n",
       "      <th>V13</th>\n",
       "      <th>V14</th>\n",
       "      <th>V15</th>\n",
       "      <th>V16</th>\n",
       "      <th>V17</th>\n",
       "      <th>V18</th>\n",
       "      <th>V19</th>\n",
       "      <th>V20</th>\n",
       "      <th>V21</th>\n",
       "      <th>V22</th>\n",
       "      <th>V23</th>\n",
       "      <th>V24</th>\n",
       "      <th>V25</th>\n",
       "      <th>V26</th>\n",
       "      <th>V27</th>\n",
       "      <th>V28</th>\n",
       "      <th>Amount</th>\n",
       "      <th>Class</th>\n",
       "    </tr>\n",
       "  </thead>\n",
       "  <tbody>\n",
       "    <tr>\n",
       "      <th>0</th>\n",
       "      <td>0.0</td>\n",
       "      <td>-1.359807</td>\n",
       "      <td>-0.072781</td>\n",
       "      <td>2.536347</td>\n",
       "      <td>1.378155</td>\n",
       "      <td>-0.338321</td>\n",
       "      <td>0.462388</td>\n",
       "      <td>0.239599</td>\n",
       "      <td>0.098698</td>\n",
       "      <td>0.363787</td>\n",
       "      <td>0.090794</td>\n",
       "      <td>-0.551600</td>\n",
       "      <td>-0.617801</td>\n",
       "      <td>-0.991390</td>\n",
       "      <td>-0.311169</td>\n",
       "      <td>1.468177</td>\n",
       "      <td>-0.470401</td>\n",
       "      <td>0.207971</td>\n",
       "      <td>0.025791</td>\n",
       "      <td>0.403993</td>\n",
       "      <td>0.251412</td>\n",
       "      <td>-0.018307</td>\n",
       "      <td>0.277838</td>\n",
       "      <td>-0.110474</td>\n",
       "      <td>0.066928</td>\n",
       "      <td>0.128539</td>\n",
       "      <td>-0.189115</td>\n",
       "      <td>0.133558</td>\n",
       "      <td>-0.021053</td>\n",
       "      <td>149.62</td>\n",
       "      <td>0</td>\n",
       "    </tr>\n",
       "    <tr>\n",
       "      <th>1</th>\n",
       "      <td>0.0</td>\n",
       "      <td>1.191857</td>\n",
       "      <td>0.266151</td>\n",
       "      <td>0.166480</td>\n",
       "      <td>0.448154</td>\n",
       "      <td>0.060018</td>\n",
       "      <td>-0.082361</td>\n",
       "      <td>-0.078803</td>\n",
       "      <td>0.085102</td>\n",
       "      <td>-0.255425</td>\n",
       "      <td>-0.166974</td>\n",
       "      <td>1.612727</td>\n",
       "      <td>1.065235</td>\n",
       "      <td>0.489095</td>\n",
       "      <td>-0.143772</td>\n",
       "      <td>0.635558</td>\n",
       "      <td>0.463917</td>\n",
       "      <td>-0.114805</td>\n",
       "      <td>-0.183361</td>\n",
       "      <td>-0.145783</td>\n",
       "      <td>-0.069083</td>\n",
       "      <td>-0.225775</td>\n",
       "      <td>-0.638672</td>\n",
       "      <td>0.101288</td>\n",
       "      <td>-0.339846</td>\n",
       "      <td>0.167170</td>\n",
       "      <td>0.125895</td>\n",
       "      <td>-0.008983</td>\n",
       "      <td>0.014724</td>\n",
       "      <td>2.69</td>\n",
       "      <td>0</td>\n",
       "    </tr>\n",
       "    <tr>\n",
       "      <th>2</th>\n",
       "      <td>1.0</td>\n",
       "      <td>-1.358354</td>\n",
       "      <td>-1.340163</td>\n",
       "      <td>1.773209</td>\n",
       "      <td>0.379780</td>\n",
       "      <td>-0.503198</td>\n",
       "      <td>1.800499</td>\n",
       "      <td>0.791461</td>\n",
       "      <td>0.247676</td>\n",
       "      <td>-1.514654</td>\n",
       "      <td>0.207643</td>\n",
       "      <td>0.624501</td>\n",
       "      <td>0.066084</td>\n",
       "      <td>0.717293</td>\n",
       "      <td>-0.165946</td>\n",
       "      <td>2.345865</td>\n",
       "      <td>-2.890083</td>\n",
       "      <td>1.109969</td>\n",
       "      <td>-0.121359</td>\n",
       "      <td>-2.261857</td>\n",
       "      <td>0.524980</td>\n",
       "      <td>0.247998</td>\n",
       "      <td>0.771679</td>\n",
       "      <td>0.909412</td>\n",
       "      <td>-0.689281</td>\n",
       "      <td>-0.327642</td>\n",
       "      <td>-0.139097</td>\n",
       "      <td>-0.055353</td>\n",
       "      <td>-0.059752</td>\n",
       "      <td>378.66</td>\n",
       "      <td>0</td>\n",
       "    </tr>\n",
       "    <tr>\n",
       "      <th>3</th>\n",
       "      <td>1.0</td>\n",
       "      <td>-0.966272</td>\n",
       "      <td>-0.185226</td>\n",
       "      <td>1.792993</td>\n",
       "      <td>-0.863291</td>\n",
       "      <td>-0.010309</td>\n",
       "      <td>1.247203</td>\n",
       "      <td>0.237609</td>\n",
       "      <td>0.377436</td>\n",
       "      <td>-1.387024</td>\n",
       "      <td>-0.054952</td>\n",
       "      <td>-0.226487</td>\n",
       "      <td>0.178228</td>\n",
       "      <td>0.507757</td>\n",
       "      <td>-0.287924</td>\n",
       "      <td>-0.631418</td>\n",
       "      <td>-1.059647</td>\n",
       "      <td>-0.684093</td>\n",
       "      <td>1.965775</td>\n",
       "      <td>-1.232622</td>\n",
       "      <td>-0.208038</td>\n",
       "      <td>-0.108300</td>\n",
       "      <td>0.005274</td>\n",
       "      <td>-0.190321</td>\n",
       "      <td>-1.175575</td>\n",
       "      <td>0.647376</td>\n",
       "      <td>-0.221929</td>\n",
       "      <td>0.062723</td>\n",
       "      <td>0.061458</td>\n",
       "      <td>123.50</td>\n",
       "      <td>0</td>\n",
       "    </tr>\n",
       "    <tr>\n",
       "      <th>4</th>\n",
       "      <td>2.0</td>\n",
       "      <td>-1.158233</td>\n",
       "      <td>0.877737</td>\n",
       "      <td>1.548718</td>\n",
       "      <td>0.403034</td>\n",
       "      <td>-0.407193</td>\n",
       "      <td>0.095921</td>\n",
       "      <td>0.592941</td>\n",
       "      <td>-0.270533</td>\n",
       "      <td>0.817739</td>\n",
       "      <td>0.753074</td>\n",
       "      <td>-0.822843</td>\n",
       "      <td>0.538196</td>\n",
       "      <td>1.345852</td>\n",
       "      <td>-1.119670</td>\n",
       "      <td>0.175121</td>\n",
       "      <td>-0.451449</td>\n",
       "      <td>-0.237033</td>\n",
       "      <td>-0.038195</td>\n",
       "      <td>0.803487</td>\n",
       "      <td>0.408542</td>\n",
       "      <td>-0.009431</td>\n",
       "      <td>0.798278</td>\n",
       "      <td>-0.137458</td>\n",
       "      <td>0.141267</td>\n",
       "      <td>-0.206010</td>\n",
       "      <td>0.502292</td>\n",
       "      <td>0.219422</td>\n",
       "      <td>0.215153</td>\n",
       "      <td>69.99</td>\n",
       "      <td>0</td>\n",
       "    </tr>\n",
       "  </tbody>\n",
       "</table>"
      ],
      "text/plain": [
       "<IPython.core.display.HTML object>"
      ]
     },
     "metadata": {},
     "output_type": "display_data"
    }
   ],
   "source": [
    "data = pd.read_csv('creditcard.csv')\n",
    "display(HTML(data.head().to_html()))"
   ]
  },
  {
   "cell_type": "markdown",
   "id": "270ce0b7",
   "metadata": {},
   "source": [
    "### EDA"
   ]
  },
  {
   "cell_type": "code",
   "execution_count": 193,
   "id": "755ded84",
   "metadata": {
    "execution": {
     "iopub.execute_input": "2025-01-27T03:47:15.618490Z",
     "iopub.status.busy": "2025-01-27T03:47:15.617639Z",
     "iopub.status.idle": "2025-01-27T03:47:15.632044Z",
     "shell.execute_reply": "2025-01-27T03:47:15.631436Z",
     "shell.execute_reply.started": "2025-01-27T03:47:15.618463Z"
    }
   },
   "outputs": [
    {
     "name": "stdout",
     "output_type": "stream",
     "text": [
      "The dataset contains 284807 rows and 34 columns.\n"
     ]
    }
   ],
   "source": [
    "# Number of predictor and total datapoints\n",
    "rows, columns = data.shape\n",
    "print(f\"The dataset contains {rows} rows and {columns} columns.\")"
   ]
  },
  {
   "cell_type": "code",
   "execution_count": 196,
   "id": "4b2a2f1a",
   "metadata": {
    "execution": {
     "iopub.execute_input": "2025-01-27T03:47:16.841962Z",
     "iopub.status.busy": "2025-01-27T03:47:16.841474Z",
     "iopub.status.idle": "2025-01-27T03:47:16.895446Z",
     "shell.execute_reply": "2025-01-27T03:47:16.894690Z",
     "shell.execute_reply.started": "2025-01-27T03:47:16.841934Z"
    }
   },
   "outputs": [
    {
     "name": "stdout",
     "output_type": "stream",
     "text": [
      "<class 'pandas.core.frame.DataFrame'>\n",
      "RangeIndex: 284807 entries, 0 to 284806\n",
      "Data columns (total 34 columns):\n",
      " #   Column  Non-Null Count   Dtype  \n",
      "---  ------  --------------   -----  \n",
      " 0   Time    284807 non-null  float64\n",
      " 1   V1      284807 non-null  float64\n",
      " 2   V2      284807 non-null  float64\n",
      " 3   V3      284807 non-null  float64\n",
      " 4   V4      284807 non-null  float64\n",
      " 5   V5      284807 non-null  float64\n",
      " 6   V6      284807 non-null  float64\n",
      " 7   V7      284807 non-null  float64\n",
      " 8   V8      284807 non-null  float64\n",
      " 9   V9      284807 non-null  float64\n",
      " 10  V10     284807 non-null  float64\n",
      " 11  V11     284807 non-null  float64\n",
      " 12  V12     284807 non-null  float64\n",
      " 13  V13     284807 non-null  float64\n",
      " 14  V14     284807 non-null  float64\n",
      " 15  V15     284807 non-null  float64\n",
      " 16  V16     284807 non-null  float64\n",
      " 17  V17     284807 non-null  float64\n",
      " 18  V18     284807 non-null  float64\n",
      " 19  V19     284807 non-null  float64\n",
      " 20  V20     284807 non-null  float64\n",
      " 21  V21     284807 non-null  float64\n",
      " 22  V22     284807 non-null  float64\n",
      " 23  V23     284807 non-null  float64\n",
      " 24  V24     284807 non-null  float64\n",
      " 25  V25     284807 non-null  float64\n",
      " 26  V26     284807 non-null  float64\n",
      " 27  V27     284807 non-null  float64\n",
      " 28  V28     284807 non-null  float64\n",
      " 29  Amount  284807 non-null  float64\n",
      " 30  Class   284807 non-null  int64  \n",
      " 31  Hour    284807 non-null  float64\n",
      " 32  Min     284807 non-null  float64\n",
      " 33  Label   284807 non-null  object \n",
      "dtypes: float64(32), int64(1), object(1)\n",
      "memory usage: 73.9+ MB\n"
     ]
    }
   ],
   "source": [
    "data.info()"
   ]
  },
  {
   "cell_type": "code",
   "execution_count": 199,
   "id": "59fec8a3",
   "metadata": {
    "execution": {
     "iopub.execute_input": "2025-01-27T03:47:18.047948Z",
     "iopub.status.busy": "2025-01-27T03:47:18.047491Z",
     "iopub.status.idle": "2025-01-27T03:47:18.102607Z",
     "shell.execute_reply": "2025-01-27T03:47:18.101890Z",
     "shell.execute_reply.started": "2025-01-27T03:47:18.047918Z"
    }
   },
   "outputs": [
    {
     "data": {
      "text/html": [
       "<div>\n",
       "<style scoped>\n",
       "    .dataframe tbody tr th:only-of-type {\n",
       "        vertical-align: middle;\n",
       "    }\n",
       "\n",
       "    .dataframe tbody tr th {\n",
       "        vertical-align: top;\n",
       "    }\n",
       "\n",
       "    .dataframe thead th {\n",
       "        text-align: right;\n",
       "    }\n",
       "</style>\n",
       "<table border=\"1\" class=\"dataframe\">\n",
       "  <thead>\n",
       "    <tr style=\"text-align: right;\">\n",
       "      <th></th>\n",
       "      <th>Columns</th>\n",
       "      <th>Null_Count</th>\n",
       "    </tr>\n",
       "  </thead>\n",
       "  <tbody>\n",
       "    <tr>\n",
       "      <th>0</th>\n",
       "      <td>Time</td>\n",
       "      <td>0</td>\n",
       "    </tr>\n",
       "    <tr>\n",
       "      <th>1</th>\n",
       "      <td>V1</td>\n",
       "      <td>0</td>\n",
       "    </tr>\n",
       "    <tr>\n",
       "      <th>2</th>\n",
       "      <td>V2</td>\n",
       "      <td>0</td>\n",
       "    </tr>\n",
       "    <tr>\n",
       "      <th>3</th>\n",
       "      <td>V3</td>\n",
       "      <td>0</td>\n",
       "    </tr>\n",
       "    <tr>\n",
       "      <th>4</th>\n",
       "      <td>V4</td>\n",
       "      <td>0</td>\n",
       "    </tr>\n",
       "    <tr>\n",
       "      <th>5</th>\n",
       "      <td>V5</td>\n",
       "      <td>0</td>\n",
       "    </tr>\n",
       "    <tr>\n",
       "      <th>6</th>\n",
       "      <td>V6</td>\n",
       "      <td>0</td>\n",
       "    </tr>\n",
       "    <tr>\n",
       "      <th>7</th>\n",
       "      <td>V7</td>\n",
       "      <td>0</td>\n",
       "    </tr>\n",
       "    <tr>\n",
       "      <th>8</th>\n",
       "      <td>V8</td>\n",
       "      <td>0</td>\n",
       "    </tr>\n",
       "    <tr>\n",
       "      <th>9</th>\n",
       "      <td>V9</td>\n",
       "      <td>0</td>\n",
       "    </tr>\n",
       "    <tr>\n",
       "      <th>10</th>\n",
       "      <td>V10</td>\n",
       "      <td>0</td>\n",
       "    </tr>\n",
       "    <tr>\n",
       "      <th>11</th>\n",
       "      <td>V11</td>\n",
       "      <td>0</td>\n",
       "    </tr>\n",
       "    <tr>\n",
       "      <th>12</th>\n",
       "      <td>V12</td>\n",
       "      <td>0</td>\n",
       "    </tr>\n",
       "    <tr>\n",
       "      <th>13</th>\n",
       "      <td>V13</td>\n",
       "      <td>0</td>\n",
       "    </tr>\n",
       "    <tr>\n",
       "      <th>14</th>\n",
       "      <td>V14</td>\n",
       "      <td>0</td>\n",
       "    </tr>\n",
       "    <tr>\n",
       "      <th>15</th>\n",
       "      <td>V15</td>\n",
       "      <td>0</td>\n",
       "    </tr>\n",
       "    <tr>\n",
       "      <th>16</th>\n",
       "      <td>V16</td>\n",
       "      <td>0</td>\n",
       "    </tr>\n",
       "    <tr>\n",
       "      <th>17</th>\n",
       "      <td>V17</td>\n",
       "      <td>0</td>\n",
       "    </tr>\n",
       "    <tr>\n",
       "      <th>18</th>\n",
       "      <td>V18</td>\n",
       "      <td>0</td>\n",
       "    </tr>\n",
       "    <tr>\n",
       "      <th>19</th>\n",
       "      <td>V19</td>\n",
       "      <td>0</td>\n",
       "    </tr>\n",
       "    <tr>\n",
       "      <th>20</th>\n",
       "      <td>V20</td>\n",
       "      <td>0</td>\n",
       "    </tr>\n",
       "    <tr>\n",
       "      <th>21</th>\n",
       "      <td>V21</td>\n",
       "      <td>0</td>\n",
       "    </tr>\n",
       "    <tr>\n",
       "      <th>22</th>\n",
       "      <td>V22</td>\n",
       "      <td>0</td>\n",
       "    </tr>\n",
       "    <tr>\n",
       "      <th>23</th>\n",
       "      <td>V23</td>\n",
       "      <td>0</td>\n",
       "    </tr>\n",
       "    <tr>\n",
       "      <th>24</th>\n",
       "      <td>V24</td>\n",
       "      <td>0</td>\n",
       "    </tr>\n",
       "    <tr>\n",
       "      <th>25</th>\n",
       "      <td>V25</td>\n",
       "      <td>0</td>\n",
       "    </tr>\n",
       "    <tr>\n",
       "      <th>26</th>\n",
       "      <td>V26</td>\n",
       "      <td>0</td>\n",
       "    </tr>\n",
       "    <tr>\n",
       "      <th>27</th>\n",
       "      <td>V27</td>\n",
       "      <td>0</td>\n",
       "    </tr>\n",
       "    <tr>\n",
       "      <th>28</th>\n",
       "      <td>V28</td>\n",
       "      <td>0</td>\n",
       "    </tr>\n",
       "    <tr>\n",
       "      <th>29</th>\n",
       "      <td>Amount</td>\n",
       "      <td>0</td>\n",
       "    </tr>\n",
       "    <tr>\n",
       "      <th>30</th>\n",
       "      <td>Class</td>\n",
       "      <td>0</td>\n",
       "    </tr>\n",
       "    <tr>\n",
       "      <th>31</th>\n",
       "      <td>Hour</td>\n",
       "      <td>0</td>\n",
       "    </tr>\n",
       "    <tr>\n",
       "      <th>32</th>\n",
       "      <td>Min</td>\n",
       "      <td>0</td>\n",
       "    </tr>\n",
       "    <tr>\n",
       "      <th>33</th>\n",
       "      <td>Label</td>\n",
       "      <td>0</td>\n",
       "    </tr>\n",
       "  </tbody>\n",
       "</table>\n",
       "</div>"
      ],
      "text/plain": [
       "   Columns  Null_Count\n",
       "0     Time           0\n",
       "1       V1           0\n",
       "2       V2           0\n",
       "3       V3           0\n",
       "4       V4           0\n",
       "5       V5           0\n",
       "6       V6           0\n",
       "7       V7           0\n",
       "8       V8           0\n",
       "9       V9           0\n",
       "10     V10           0\n",
       "11     V11           0\n",
       "12     V12           0\n",
       "13     V13           0\n",
       "14     V14           0\n",
       "15     V15           0\n",
       "16     V16           0\n",
       "17     V17           0\n",
       "18     V18           0\n",
       "19     V19           0\n",
       "20     V20           0\n",
       "21     V21           0\n",
       "22     V22           0\n",
       "23     V23           0\n",
       "24     V24           0\n",
       "25     V25           0\n",
       "26     V26           0\n",
       "27     V27           0\n",
       "28     V28           0\n",
       "29  Amount           0\n",
       "30   Class           0\n",
       "31    Hour           0\n",
       "32     Min           0\n",
       "33   Label           0"
      ]
     },
     "execution_count": 199,
     "metadata": {},
     "output_type": "execute_result"
    }
   ],
   "source": [
    "# Missing values percentage for various columns\n",
    "temp = data.isna().sum()\n",
    "miss_df = dict()\n",
    "miss_df['Columns'] = temp.index\n",
    "miss_df['Null_Count'] = temp.values\n",
    "miss_df = pd.DataFrame(miss_df)\n",
    "miss_df"
   ]
  },
  {
   "cell_type": "code",
   "execution_count": 202,
   "id": "e6080769",
   "metadata": {
    "execution": {
     "iopub.execute_input": "2025-01-27T03:47:19.016221Z",
     "iopub.status.busy": "2025-01-27T03:47:19.015915Z",
     "iopub.status.idle": "2025-01-27T03:47:19.033268Z",
     "shell.execute_reply": "2025-01-27T03:47:19.032638Z",
     "shell.execute_reply.started": "2025-01-27T03:47:19.016199Z"
    }
   },
   "outputs": [
    {
     "data": {
      "text/plain": [
       "Class\n",
       "0    284315\n",
       "1       492\n",
       "Name: count, dtype: int64"
      ]
     },
     "execution_count": 202,
     "metadata": {},
     "output_type": "execute_result"
    }
   ],
   "source": [
    "# Number of labels in the data and their distribution\n",
    "data['Class'].value_counts()"
   ]
  },
  {
   "cell_type": "code",
   "execution_count": 205,
   "id": "2f6c0f31",
   "metadata": {
    "execution": {
     "iopub.execute_input": "2025-01-27T03:47:19.690233Z",
     "iopub.status.busy": "2025-01-27T03:47:19.688662Z",
     "iopub.status.idle": "2025-01-27T03:47:19.720056Z",
     "shell.execute_reply": "2025-01-27T03:47:19.709511Z",
     "shell.execute_reply.started": "2025-01-27T03:47:19.690202Z"
    }
   },
   "outputs": [
    {
     "data": {
      "text/plain": [
       "0.1727485630620034"
      ]
     },
     "execution_count": 205,
     "metadata": {},
     "output_type": "execute_result"
    }
   ],
   "source": [
    "fraudelent_trans_per = (492 * 100)/(284315 + 492)\n",
    "fraudelent_trans_per"
   ]
  },
  {
   "cell_type": "markdown",
   "id": "691914a8",
   "metadata": {},
   "source": [
    "<p>Dataset is highly imbalane as there are more data points of class 0 and very less from class 1 i.e., only 0.172% datapoints are of class 1</p>"
   ]
  },
  {
   "cell_type": "code",
   "execution_count": 209,
   "id": "de9a6610",
   "metadata": {
    "execution": {
     "iopub.execute_input": "2025-01-27T03:47:21.603782Z",
     "iopub.status.busy": "2025-01-27T03:47:21.603193Z",
     "iopub.status.idle": "2025-01-27T03:47:22.071353Z",
     "shell.execute_reply": "2025-01-27T03:47:22.070421Z",
     "shell.execute_reply.started": "2025-01-27T03:47:21.603753Z"
    }
   },
   "outputs": [
    {
     "data": {
      "text/html": [
       "<div>\n",
       "<style scoped>\n",
       "    .dataframe tbody tr th:only-of-type {\n",
       "        vertical-align: middle;\n",
       "    }\n",
       "\n",
       "    .dataframe tbody tr th {\n",
       "        vertical-align: top;\n",
       "    }\n",
       "\n",
       "    .dataframe thead th {\n",
       "        text-align: right;\n",
       "    }\n",
       "</style>\n",
       "<table border=\"1\" class=\"dataframe\">\n",
       "  <thead>\n",
       "    <tr style=\"text-align: right;\">\n",
       "      <th></th>\n",
       "      <th>Time</th>\n",
       "      <th>V1</th>\n",
       "      <th>V2</th>\n",
       "      <th>V3</th>\n",
       "      <th>V4</th>\n",
       "      <th>V5</th>\n",
       "      <th>V6</th>\n",
       "      <th>V7</th>\n",
       "      <th>V8</th>\n",
       "      <th>V9</th>\n",
       "      <th>...</th>\n",
       "      <th>V23</th>\n",
       "      <th>V24</th>\n",
       "      <th>V25</th>\n",
       "      <th>V26</th>\n",
       "      <th>V27</th>\n",
       "      <th>V28</th>\n",
       "      <th>Amount</th>\n",
       "      <th>Class</th>\n",
       "      <th>Hour</th>\n",
       "      <th>Min</th>\n",
       "    </tr>\n",
       "  </thead>\n",
       "  <tbody>\n",
       "    <tr>\n",
       "      <th>count</th>\n",
       "      <td>284807.000000</td>\n",
       "      <td>2.848070e+05</td>\n",
       "      <td>2.848070e+05</td>\n",
       "      <td>2.848070e+05</td>\n",
       "      <td>2.848070e+05</td>\n",
       "      <td>2.848070e+05</td>\n",
       "      <td>2.848070e+05</td>\n",
       "      <td>2.848070e+05</td>\n",
       "      <td>2.848070e+05</td>\n",
       "      <td>2.848070e+05</td>\n",
       "      <td>...</td>\n",
       "      <td>2.848070e+05</td>\n",
       "      <td>2.848070e+05</td>\n",
       "      <td>2.848070e+05</td>\n",
       "      <td>2.848070e+05</td>\n",
       "      <td>2.848070e+05</td>\n",
       "      <td>2.848070e+05</td>\n",
       "      <td>284807.000000</td>\n",
       "      <td>284807.000000</td>\n",
       "      <td>284807.000000</td>\n",
       "      <td>284807.000000</td>\n",
       "    </tr>\n",
       "    <tr>\n",
       "      <th>mean</th>\n",
       "      <td>94813.859575</td>\n",
       "      <td>1.168375e-15</td>\n",
       "      <td>3.416908e-16</td>\n",
       "      <td>-1.379537e-15</td>\n",
       "      <td>2.074095e-15</td>\n",
       "      <td>9.604066e-16</td>\n",
       "      <td>1.487313e-15</td>\n",
       "      <td>-5.556467e-16</td>\n",
       "      <td>1.213481e-16</td>\n",
       "      <td>-2.406331e-15</td>\n",
       "      <td>...</td>\n",
       "      <td>2.578648e-16</td>\n",
       "      <td>4.473266e-15</td>\n",
       "      <td>5.340915e-16</td>\n",
       "      <td>1.683437e-15</td>\n",
       "      <td>-3.660091e-16</td>\n",
       "      <td>-1.227390e-16</td>\n",
       "      <td>88.349619</td>\n",
       "      <td>0.001727</td>\n",
       "      <td>14.046470</td>\n",
       "      <td>29.488841</td>\n",
       "    </tr>\n",
       "    <tr>\n",
       "      <th>std</th>\n",
       "      <td>47488.145955</td>\n",
       "      <td>1.958696e+00</td>\n",
       "      <td>1.651309e+00</td>\n",
       "      <td>1.516255e+00</td>\n",
       "      <td>1.415869e+00</td>\n",
       "      <td>1.380247e+00</td>\n",
       "      <td>1.332271e+00</td>\n",
       "      <td>1.237094e+00</td>\n",
       "      <td>1.194353e+00</td>\n",
       "      <td>1.098632e+00</td>\n",
       "      <td>...</td>\n",
       "      <td>6.244603e-01</td>\n",
       "      <td>6.056471e-01</td>\n",
       "      <td>5.212781e-01</td>\n",
       "      <td>4.822270e-01</td>\n",
       "      <td>4.036325e-01</td>\n",
       "      <td>3.300833e-01</td>\n",
       "      <td>250.120109</td>\n",
       "      <td>0.041527</td>\n",
       "      <td>5.835854</td>\n",
       "      <td>17.429521</td>\n",
       "    </tr>\n",
       "    <tr>\n",
       "      <th>min</th>\n",
       "      <td>0.000000</td>\n",
       "      <td>-5.640751e+01</td>\n",
       "      <td>-7.271573e+01</td>\n",
       "      <td>-4.832559e+01</td>\n",
       "      <td>-5.683171e+00</td>\n",
       "      <td>-1.137433e+02</td>\n",
       "      <td>-2.616051e+01</td>\n",
       "      <td>-4.355724e+01</td>\n",
       "      <td>-7.321672e+01</td>\n",
       "      <td>-1.343407e+01</td>\n",
       "      <td>...</td>\n",
       "      <td>-4.480774e+01</td>\n",
       "      <td>-2.836627e+00</td>\n",
       "      <td>-1.029540e+01</td>\n",
       "      <td>-2.604551e+00</td>\n",
       "      <td>-2.256568e+01</td>\n",
       "      <td>-1.543008e+01</td>\n",
       "      <td>0.000000</td>\n",
       "      <td>0.000000</td>\n",
       "      <td>0.000000</td>\n",
       "      <td>0.000000</td>\n",
       "    </tr>\n",
       "    <tr>\n",
       "      <th>25%</th>\n",
       "      <td>54201.500000</td>\n",
       "      <td>-9.203734e-01</td>\n",
       "      <td>-5.985499e-01</td>\n",
       "      <td>-8.903648e-01</td>\n",
       "      <td>-8.486401e-01</td>\n",
       "      <td>-6.915971e-01</td>\n",
       "      <td>-7.682956e-01</td>\n",
       "      <td>-5.540759e-01</td>\n",
       "      <td>-2.086297e-01</td>\n",
       "      <td>-6.430976e-01</td>\n",
       "      <td>...</td>\n",
       "      <td>-1.618463e-01</td>\n",
       "      <td>-3.545861e-01</td>\n",
       "      <td>-3.171451e-01</td>\n",
       "      <td>-3.269839e-01</td>\n",
       "      <td>-7.083953e-02</td>\n",
       "      <td>-5.295979e-02</td>\n",
       "      <td>5.600000</td>\n",
       "      <td>0.000000</td>\n",
       "      <td>10.000000</td>\n",
       "      <td>14.283333</td>\n",
       "    </tr>\n",
       "    <tr>\n",
       "      <th>50%</th>\n",
       "      <td>84692.000000</td>\n",
       "      <td>1.810880e-02</td>\n",
       "      <td>6.548556e-02</td>\n",
       "      <td>1.798463e-01</td>\n",
       "      <td>-1.984653e-02</td>\n",
       "      <td>-5.433583e-02</td>\n",
       "      <td>-2.741871e-01</td>\n",
       "      <td>4.010308e-02</td>\n",
       "      <td>2.235804e-02</td>\n",
       "      <td>-5.142873e-02</td>\n",
       "      <td>...</td>\n",
       "      <td>-1.119293e-02</td>\n",
       "      <td>4.097606e-02</td>\n",
       "      <td>1.659350e-02</td>\n",
       "      <td>-5.213911e-02</td>\n",
       "      <td>1.342146e-03</td>\n",
       "      <td>1.124383e-02</td>\n",
       "      <td>22.000000</td>\n",
       "      <td>0.000000</td>\n",
       "      <td>15.000000</td>\n",
       "      <td>29.400000</td>\n",
       "    </tr>\n",
       "    <tr>\n",
       "      <th>75%</th>\n",
       "      <td>139320.500000</td>\n",
       "      <td>1.315642e+00</td>\n",
       "      <td>8.037239e-01</td>\n",
       "      <td>1.027196e+00</td>\n",
       "      <td>7.433413e-01</td>\n",
       "      <td>6.119264e-01</td>\n",
       "      <td>3.985649e-01</td>\n",
       "      <td>5.704361e-01</td>\n",
       "      <td>3.273459e-01</td>\n",
       "      <td>5.971390e-01</td>\n",
       "      <td>...</td>\n",
       "      <td>1.476421e-01</td>\n",
       "      <td>4.395266e-01</td>\n",
       "      <td>3.507156e-01</td>\n",
       "      <td>2.409522e-01</td>\n",
       "      <td>9.104512e-02</td>\n",
       "      <td>7.827995e-02</td>\n",
       "      <td>77.165000</td>\n",
       "      <td>0.000000</td>\n",
       "      <td>19.000000</td>\n",
       "      <td>44.550000</td>\n",
       "    </tr>\n",
       "    <tr>\n",
       "      <th>max</th>\n",
       "      <td>172792.000000</td>\n",
       "      <td>2.454930e+00</td>\n",
       "      <td>2.205773e+01</td>\n",
       "      <td>9.382558e+00</td>\n",
       "      <td>1.687534e+01</td>\n",
       "      <td>3.480167e+01</td>\n",
       "      <td>7.330163e+01</td>\n",
       "      <td>1.205895e+02</td>\n",
       "      <td>2.000721e+01</td>\n",
       "      <td>1.559499e+01</td>\n",
       "      <td>...</td>\n",
       "      <td>2.252841e+01</td>\n",
       "      <td>4.584549e+00</td>\n",
       "      <td>7.519589e+00</td>\n",
       "      <td>3.517346e+00</td>\n",
       "      <td>3.161220e+01</td>\n",
       "      <td>3.384781e+01</td>\n",
       "      <td>25691.160000</td>\n",
       "      <td>1.000000</td>\n",
       "      <td>23.000000</td>\n",
       "      <td>59.983333</td>\n",
       "    </tr>\n",
       "  </tbody>\n",
       "</table>\n",
       "<p>8 rows × 33 columns</p>\n",
       "</div>"
      ],
      "text/plain": [
       "                Time            V1            V2            V3            V4  \\\n",
       "count  284807.000000  2.848070e+05  2.848070e+05  2.848070e+05  2.848070e+05   \n",
       "mean    94813.859575  1.168375e-15  3.416908e-16 -1.379537e-15  2.074095e-15   \n",
       "std     47488.145955  1.958696e+00  1.651309e+00  1.516255e+00  1.415869e+00   \n",
       "min         0.000000 -5.640751e+01 -7.271573e+01 -4.832559e+01 -5.683171e+00   \n",
       "25%     54201.500000 -9.203734e-01 -5.985499e-01 -8.903648e-01 -8.486401e-01   \n",
       "50%     84692.000000  1.810880e-02  6.548556e-02  1.798463e-01 -1.984653e-02   \n",
       "75%    139320.500000  1.315642e+00  8.037239e-01  1.027196e+00  7.433413e-01   \n",
       "max    172792.000000  2.454930e+00  2.205773e+01  9.382558e+00  1.687534e+01   \n",
       "\n",
       "                 V5            V6            V7            V8            V9  \\\n",
       "count  2.848070e+05  2.848070e+05  2.848070e+05  2.848070e+05  2.848070e+05   \n",
       "mean   9.604066e-16  1.487313e-15 -5.556467e-16  1.213481e-16 -2.406331e-15   \n",
       "std    1.380247e+00  1.332271e+00  1.237094e+00  1.194353e+00  1.098632e+00   \n",
       "min   -1.137433e+02 -2.616051e+01 -4.355724e+01 -7.321672e+01 -1.343407e+01   \n",
       "25%   -6.915971e-01 -7.682956e-01 -5.540759e-01 -2.086297e-01 -6.430976e-01   \n",
       "50%   -5.433583e-02 -2.741871e-01  4.010308e-02  2.235804e-02 -5.142873e-02   \n",
       "75%    6.119264e-01  3.985649e-01  5.704361e-01  3.273459e-01  5.971390e-01   \n",
       "max    3.480167e+01  7.330163e+01  1.205895e+02  2.000721e+01  1.559499e+01   \n",
       "\n",
       "       ...           V23           V24           V25           V26  \\\n",
       "count  ...  2.848070e+05  2.848070e+05  2.848070e+05  2.848070e+05   \n",
       "mean   ...  2.578648e-16  4.473266e-15  5.340915e-16  1.683437e-15   \n",
       "std    ...  6.244603e-01  6.056471e-01  5.212781e-01  4.822270e-01   \n",
       "min    ... -4.480774e+01 -2.836627e+00 -1.029540e+01 -2.604551e+00   \n",
       "25%    ... -1.618463e-01 -3.545861e-01 -3.171451e-01 -3.269839e-01   \n",
       "50%    ... -1.119293e-02  4.097606e-02  1.659350e-02 -5.213911e-02   \n",
       "75%    ...  1.476421e-01  4.395266e-01  3.507156e-01  2.409522e-01   \n",
       "max    ...  2.252841e+01  4.584549e+00  7.519589e+00  3.517346e+00   \n",
       "\n",
       "                V27           V28         Amount          Class  \\\n",
       "count  2.848070e+05  2.848070e+05  284807.000000  284807.000000   \n",
       "mean  -3.660091e-16 -1.227390e-16      88.349619       0.001727   \n",
       "std    4.036325e-01  3.300833e-01     250.120109       0.041527   \n",
       "min   -2.256568e+01 -1.543008e+01       0.000000       0.000000   \n",
       "25%   -7.083953e-02 -5.295979e-02       5.600000       0.000000   \n",
       "50%    1.342146e-03  1.124383e-02      22.000000       0.000000   \n",
       "75%    9.104512e-02  7.827995e-02      77.165000       0.000000   \n",
       "max    3.161220e+01  3.384781e+01   25691.160000       1.000000   \n",
       "\n",
       "                Hour            Min  \n",
       "count  284807.000000  284807.000000  \n",
       "mean       14.046470      29.488841  \n",
       "std         5.835854      17.429521  \n",
       "min         0.000000       0.000000  \n",
       "25%        10.000000      14.283333  \n",
       "50%        15.000000      29.400000  \n",
       "75%        19.000000      44.550000  \n",
       "max        23.000000      59.983333  \n",
       "\n",
       "[8 rows x 33 columns]"
      ]
     },
     "execution_count": 209,
     "metadata": {},
     "output_type": "execute_result"
    }
   ],
   "source": [
    "# using describe function of pandas to get the mean, median and std. deviation of the data\n",
    "data.describe()"
   ]
  },
  {
   "cell_type": "code",
   "execution_count": 211,
   "id": "53505101",
   "metadata": {
    "execution": {
     "iopub.execute_input": "2025-01-27T03:47:22.533934Z",
     "iopub.status.busy": "2025-01-27T03:47:22.533314Z",
     "iopub.status.idle": "2025-01-27T03:47:22.550192Z",
     "shell.execute_reply": "2025-01-27T03:47:22.549273Z",
     "shell.execute_reply.started": "2025-01-27T03:47:22.533905Z"
    }
   },
   "outputs": [],
   "source": [
    "#analzying few features"
   ]
  },
  {
   "cell_type": "code",
   "execution_count": 215,
   "id": "8a55ea1a",
   "metadata": {
    "execution": {
     "iopub.execute_input": "2025-01-27T03:47:24.125470Z",
     "iopub.status.busy": "2025-01-27T03:47:24.125236Z",
     "iopub.status.idle": "2025-01-27T03:47:24.142545Z",
     "shell.execute_reply": "2025-01-27T03:47:24.141675Z",
     "shell.execute_reply.started": "2025-01-27T03:47:24.125451Z"
    }
   },
   "outputs": [
    {
     "name": "stdout",
     "output_type": "stream",
     "text": [
      "Min transaction amount is: 0.0\n",
      "Max transaction amount is: 25691.16\n",
      "Avg 88.34961925093133 and std. dev is 250.1201092402221\n"
     ]
    }
   ],
   "source": [
    "# Analyzing the Amount data\n",
    "print(f\"Min transaction amount is: {data['Amount'].min()}\")\n",
    "print(f\"Max transaction amount is: {data['Amount'].max()}\")\n",
    "print(f\"Avg {data['Amount'].mean()} and std. dev is {data['Amount'].std()}\")"
   ]
  },
  {
   "cell_type": "code",
   "execution_count": 218,
   "id": "ee043ead",
   "metadata": {
    "execution": {
     "iopub.execute_input": "2025-01-27T03:47:24.931479Z",
     "iopub.status.busy": "2025-01-27T03:47:24.931156Z",
     "iopub.status.idle": "2025-01-27T03:47:24.948963Z",
     "shell.execute_reply": "2025-01-27T03:47:24.948061Z",
     "shell.execute_reply.started": "2025-01-27T03:47:24.931449Z"
    }
   },
   "outputs": [
    {
     "data": {
      "text/plain": [
       "172792.0"
      ]
     },
     "execution_count": 218,
     "metadata": {},
     "output_type": "execute_result"
    }
   ],
   "source": [
    "#Analyzing Time\n",
    "data['Time'].max()"
   ]
  },
  {
   "cell_type": "markdown",
   "id": "d009f5d7",
   "metadata": {},
   "source": [
    "<p>Time is in minutes. Convert it to show hour and minutes</p>"
   ]
  },
  {
   "cell_type": "code",
   "execution_count": 222,
   "id": "dea918fd",
   "metadata": {
    "execution": {
     "iopub.execute_input": "2025-01-27T03:47:27.115314Z",
     "iopub.status.busy": "2025-01-27T03:47:27.115062Z",
     "iopub.status.idle": "2025-01-27T03:47:27.147783Z",
     "shell.execute_reply": "2025-01-27T03:47:27.146871Z",
     "shell.execute_reply.started": "2025-01-27T03:47:27.115294Z"
    }
   },
   "outputs": [],
   "source": [
    "data['Hour'] = (data['Time'] // 3600 ) % 24\n",
    "data['Min'] = ((data['Time'] / 3600 ) - (data['Time'] // 3600 )) * 60"
   ]
  },
  {
   "cell_type": "code",
   "execution_count": 225,
   "id": "39a36d81",
   "metadata": {
    "execution": {
     "iopub.execute_input": "2025-01-27T03:47:28.227024Z",
     "iopub.status.busy": "2025-01-27T03:47:28.226450Z",
     "iopub.status.idle": "2025-01-27T03:47:28.536185Z",
     "shell.execute_reply": "2025-01-27T03:47:28.535396Z",
     "shell.execute_reply.started": "2025-01-27T03:47:28.226997Z"
    }
   },
   "outputs": [
    {
     "data": {
      "text/plain": [
       "<Axes: xlabel='Hour'>"
      ]
     },
     "execution_count": 225,
     "metadata": {},
     "output_type": "execute_result"
    },
    {
     "data": {
      "image/png": "[encoded data removed]",
      "text/plain": [
       "<Figure size 640x480 with 1 Axes>"
      ]
     },
     "metadata": {},
     "output_type": "display_data"
    }
   ],
   "source": [
    "data['Hour'].value_counts().plot(kind='bar')"
   ]
  },
  {
   "cell_type": "code",
   "execution_count": 228,
   "id": "59c47b19",
   "metadata": {
    "execution": {
     "iopub.execute_input": "2025-01-27T03:47:29.281080Z",
     "iopub.status.busy": "2025-01-27T03:47:29.280162Z",
     "iopub.status.idle": "2025-01-27T03:47:29.395193Z",
     "shell.execute_reply": "2025-01-27T03:47:29.394511Z",
     "shell.execute_reply.started": "2025-01-27T03:47:29.281051Z"
    }
   },
   "outputs": [],
   "source": [
    "### Analyzing the realtionship between the Hour of the day and fraudlent transaction\n",
    "data['Label'] = data['Class'].apply(lambda v: \"Fraud\" if v == 1 else \"Not Fraud\")\n",
    "df_time_fraud = data[['Hour', 'Label']].groupby(['Hour', 'Label']).agg(Count = ('Label', 'count')).reset_index()"
   ]
  },
  {
   "cell_type": "code",
   "execution_count": 231,
   "id": "53677fa1",
   "metadata": {
    "execution": {
     "iopub.execute_input": "2025-01-27T03:47:30.940484Z",
     "iopub.status.busy": "2025-01-27T03:47:30.940037Z",
     "iopub.status.idle": "2025-01-27T03:47:30.979443Z",
     "shell.execute_reply": "2025-01-27T03:47:30.978792Z",
     "shell.execute_reply.started": "2025-01-27T03:47:30.940421Z"
    }
   },
   "outputs": [
    {
     "data": {
      "text/plain": [
       "Label\n",
       "Not Fraud    284315\n",
       "Fraud           492\n",
       "Name: count, dtype: int64"
      ]
     },
     "execution_count": 231,
     "metadata": {},
     "output_type": "execute_result"
    }
   ],
   "source": [
    "data['Label'].value_counts()"
   ]
  },
  {
   "cell_type": "code",
   "execution_count": 234,
   "id": "c812162c",
   "metadata": {
    "execution": {
     "iopub.execute_input": "2025-01-27T03:47:32.166192Z",
     "iopub.status.busy": "2025-01-27T03:47:32.165654Z",
     "iopub.status.idle": "2025-01-27T03:47:32.187120Z",
     "shell.execute_reply": "2025-01-27T03:47:32.186399Z",
     "shell.execute_reply.started": "2025-01-27T03:47:32.166163Z"
    }
   },
   "outputs": [
    {
     "data": {
      "text/html": [
       "<div>\n",
       "<style scoped>\n",
       "    .dataframe tbody tr th:only-of-type {\n",
       "        vertical-align: middle;\n",
       "    }\n",
       "\n",
       "    .dataframe tbody tr th {\n",
       "        vertical-align: top;\n",
       "    }\n",
       "\n",
       "    .dataframe thead th {\n",
       "        text-align: right;\n",
       "    }\n",
       "</style>\n",
       "<table border=\"1\" class=\"dataframe\">\n",
       "  <thead>\n",
       "    <tr style=\"text-align: right;\">\n",
       "      <th></th>\n",
       "      <th>Hour</th>\n",
       "      <th>Label</th>\n",
       "      <th>Count</th>\n",
       "    </tr>\n",
       "  </thead>\n",
       "  <tbody>\n",
       "    <tr>\n",
       "      <th>0</th>\n",
       "      <td>0.0</td>\n",
       "      <td>Fraud</td>\n",
       "      <td>6</td>\n",
       "    </tr>\n",
       "    <tr>\n",
       "      <th>1</th>\n",
       "      <td>0.0</td>\n",
       "      <td>Not Fraud</td>\n",
       "      <td>7689</td>\n",
       "    </tr>\n",
       "  </tbody>\n",
       "</table>\n",
       "</div>"
      ],
      "text/plain": [
       "   Hour      Label  Count\n",
       "0   0.0      Fraud      6\n",
       "1   0.0  Not Fraud   7689"
      ]
     },
     "execution_count": 234,
     "metadata": {},
     "output_type": "execute_result"
    }
   ],
   "source": [
    "df_time_fraud.head(2)"
   ]
  },
  {
   "cell_type": "code",
   "execution_count": 237,
   "id": "6f041c94",
   "metadata": {
    "execution": {
     "iopub.execute_input": "2025-01-27T03:47:33.335166Z",
     "iopub.status.busy": "2025-01-27T03:47:33.334860Z",
     "iopub.status.idle": "2025-01-27T03:47:33.794726Z",
     "shell.execute_reply": "2025-01-27T03:47:33.793678Z",
     "shell.execute_reply.started": "2025-01-27T03:47:33.335140Z"
    }
   },
   "outputs": [
    {
     "data": {
      "image/png": "[encoded data removed]",
      "text/plain": [
       "<Figure size 1000x600 with 1 Axes>"
      ]
     },
     "metadata": {},
     "output_type": "display_data"
    }
   ],
   "source": [
    "# df_time_fraud_true = df_time_fraud[df_time_fraud['Label']=='Fraud']\n",
    "# df_time_fraud_False = df_time_fraud[df_time_fraud['Label']=='Not Fraud']\n",
    "pivot_data = df_time_fraud.pivot(index='Hour', columns='Label', values='Count')\n",
    "pivot_data.plot(kind='bar', figsize=(10, 6))\n",
    "\n",
    "# Add labels and title\n",
    "plt.xlabel('Hour of the Day')\n",
    "plt.ylabel('Counts')\n",
    "plt.title('Fraud and Not Fraud Counts by Hour')\n",
    "plt.xticks(rotation=0)\n",
    "plt.legend(title='Label')\n",
    "plt.tight_layout()"
   ]
  },
  {
   "cell_type": "code",
   "execution_count": 240,
   "id": "7c97764f",
   "metadata": {
    "execution": {
     "iopub.execute_input": "2025-01-27T03:47:34.754466Z",
     "iopub.status.busy": "2025-01-27T03:47:34.753562Z",
     "iopub.status.idle": "2025-01-27T03:47:35.277455Z",
     "shell.execute_reply": "2025-01-27T03:47:35.276660Z",
     "shell.execute_reply.started": "2025-01-27T03:47:34.754444Z"
    }
   },
   "outputs": [
    {
     "data": {
      "image/png": "[encoded data removed]",
      "text/plain": [
       "<Figure size 1000x600 with 1 Axes>"
      ]
     },
     "metadata": {},
     "output_type": "display_data"
    }
   ],
   "source": [
    "#Only looking at the distribution of the fraudulent transaction with time\n",
    "df_time_fraud_true = df_time_fraud[df_time_fraud['Label']=='Fraud']\n",
    "pivot_data = df_time_fraud_true.pivot(index='Hour', columns='Label', values='Count')\n",
    "pivot_data.plot(kind='bar', figsize=(10, 6))\n",
    "\n",
    "# Add labels and title\n",
    "plt.xlabel('Hour of the Day')\n",
    "plt.ylabel('Counts')\n",
    "plt.title('Fraud and Not Fraud Counts by Hour')\n",
    "plt.xticks(rotation=0)\n",
    "plt.legend(title='Label')\n",
    "plt.tight_layout()"
   ]
  },
  {
   "cell_type": "code",
   "execution_count": 243,
   "id": "3044e5a6",
   "metadata": {
    "execution": {
     "iopub.execute_input": "2025-01-27T03:47:36.192205Z",
     "iopub.status.busy": "2025-01-27T03:47:36.191604Z",
     "iopub.status.idle": "2025-01-27T03:47:36.239204Z",
     "shell.execute_reply": "2025-01-27T03:47:36.238285Z",
     "shell.execute_reply.started": "2025-01-27T03:47:36.192176Z"
    }
   },
   "outputs": [],
   "source": [
    "data = data.drop(columns=['Label'])"
   ]
  },
  {
   "cell_type": "code",
   "execution_count": 246,
   "id": "895a8c5a",
   "metadata": {
    "execution": {
     "iopub.execute_input": "2025-01-27T03:47:37.930788Z",
     "iopub.status.busy": "2025-01-27T03:47:37.930212Z",
     "iopub.status.idle": "2025-01-27T03:47:39.169794Z",
     "shell.execute_reply": "2025-01-27T03:47:39.169105Z",
     "shell.execute_reply.started": "2025-01-27T03:47:37.930766Z"
    }
   },
   "outputs": [
    {
     "data": {
      "image/png": "[encoded data removed]",
      "text/plain": [
       "<Figure size 1000x600 with 2 Axes>"
      ]
     },
     "metadata": {},
     "output_type": "display_data"
    }
   ],
   "source": [
    "# Chekcing Correlation between the columns\n",
    "import seaborn as sns\n",
    "corr_df =data.corr()\n",
    "plt.figure(figsize=(10,6))\n",
    "sns.heatmap(corr_df,cmap='coolwarm',vmin=-1,vmax=1,annot=False,linewidths=0.5)\n",
    "plt.title('Correlation Matrix Heatmap')\n",
    "plt.show()"
   ]
  },
  {
   "cell_type": "markdown",
   "id": "dac7e528",
   "metadata": {},
   "source": [
    "<p> Columns values have less correlation with each other </p>"
   ]
  },
  {
   "cell_type": "markdown",
   "id": "add26654",
   "metadata": {},
   "source": [
    "### Working with class imbalance:\n",
    "<p>\n",
    "    There are multiple ways to handle the class imbalance dataset, some of the famous techniques are under sampling the non event class, oversampling the event class and use SMOTE function to resample the data to balance the class. \n",
    "    <br>\n",
    "    We will use the SMOTE function as it is widely used and the best technique out of all 3 for class imbalance dataset\n",
    "</p>"
   ]
  },
  {
   "cell_type": "code",
   "execution_count": 249,
   "id": "3ca045f7",
   "metadata": {
    "execution": {
     "iopub.execute_input": "2025-01-27T03:48:21.472806Z",
     "iopub.status.busy": "2025-01-27T03:48:21.472008Z",
     "iopub.status.idle": "2025-01-27T03:48:23.288372Z",
     "shell.execute_reply": "2025-01-27T03:48:23.287695Z",
     "shell.execute_reply.started": "2025-01-27T03:48:21.472783Z"
    }
   },
   "outputs": [],
   "source": [
    "data = pd.read_csv('creditcard.csv')"
   ]
  },
  {
   "cell_type": "code",
   "execution_count": 252,
   "id": "7d7aa357",
   "metadata": {
    "execution": {
     "iopub.execute_input": "2025-01-27T03:48:26.025153Z",
     "iopub.status.busy": "2025-01-27T03:48:26.024759Z",
     "iopub.status.idle": "2025-01-27T03:48:26.042994Z",
     "shell.execute_reply": "2025-01-27T03:48:26.042249Z",
     "shell.execute_reply.started": "2025-01-27T03:48:26.025121Z"
    }
   },
   "outputs": [
    {
     "data": {
      "text/plain": [
       "Index(['Time', 'V1', 'V2', 'V3', 'V4', 'V5', 'V6', 'V7', 'V8', 'V9', 'V10',\n",
       "       'V11', 'V12', 'V13', 'V14', 'V15', 'V16', 'V17', 'V18', 'V19', 'V20',\n",
       "       'V21', 'V22', 'V23', 'V24', 'V25', 'V26', 'V27', 'V28', 'Amount',\n",
       "       'Class'],\n",
       "      dtype='object')"
      ]
     },
     "execution_count": 252,
     "metadata": {},
     "output_type": "execute_result"
    }
   ],
   "source": [
    "data.columns"
   ]
  },
  {
   "cell_type": "code",
   "execution_count": 255,
   "id": "1e5ae64f",
   "metadata": {
    "execution": {
     "iopub.execute_input": "2025-01-27T03:48:28.552350Z",
     "iopub.status.busy": "2025-01-27T03:48:28.550583Z",
     "iopub.status.idle": "2025-01-27T03:48:29.504306Z",
     "shell.execute_reply": "2025-01-27T03:48:29.503588Z",
     "shell.execute_reply.started": "2025-01-27T03:48:28.552320Z"
    }
   },
   "outputs": [
    {
     "name": "stdout",
     "output_type": "stream",
     "text": [
      "Class distribution after SMOTE: Class\n",
      "0    227451\n",
      "1    227451\n",
      "Name: count, dtype: int64\n"
     ]
    }
   ],
   "source": [
    "# Scale the data which will help the model to converge faster\n",
    "scaler = StandardScaler()\n",
    "data[['Time', 'V1', 'V2', 'V3', 'V4', 'V5', 'V6', 'V7', 'V8', 'V9', 'V10',\n",
    "       'V11', 'V12', 'V13', 'V14', 'V15', 'V16', 'V17', 'V18', 'V19', 'V20',\n",
    "       'V21', 'V22', 'V23', 'V24', 'V25', 'V26', 'V27', 'V28', 'Amount']] = scaler.fit_transform(data[['Time', 'V1', 'V2', 'V3', 'V4', 'V5', 'V6', 'V7', 'V8', 'V9', 'V10',\n",
    "       'V11', 'V12', 'V13', 'V14', 'V15', 'V16', 'V17', 'V18', 'V19', 'V20',\n",
    "       'V21', 'V22', 'V23', 'V24', 'V25', 'V26', 'V27', 'V28', 'Amount']])\n",
    "\n",
    "# Separate features and target\n",
    "X = data.drop(columns=['Class'])\n",
    "y = data['Class']\n",
    "\n",
    "# Split into training and test sets\n",
    "X_train, X_test, y_train, y_test = train_test_split(X, y, test_size=0.2, random_state=42, stratify=y)\n",
    "\n",
    "# Handle class imbalance using SMOTE\n",
    "smote = SMOTE(random_state=42)\n",
    "X_train_new, y_train_new = smote.fit_resample(X_train, y_train)\n",
    "\n",
    "print(\"Class distribution after SMOTE:\", y_train_new.value_counts())\n"
   ]
  },
  {
   "cell_type": "code",
   "execution_count": 258,
   "id": "c58873c5",
   "metadata": {
    "execution": {
     "iopub.execute_input": "2025-01-27T03:48:34.832488Z",
     "iopub.status.busy": "2025-01-27T03:48:34.832084Z",
     "iopub.status.idle": "2025-01-27T03:48:34.875660Z",
     "shell.execute_reply": "2025-01-27T03:48:34.874771Z",
     "shell.execute_reply.started": "2025-01-27T03:48:34.832461Z"
    }
   },
   "outputs": [
    {
     "data": {
      "text/html": [
       "<div>\n",
       "<style scoped>\n",
       "    .dataframe tbody tr th:only-of-type {\n",
       "        vertical-align: middle;\n",
       "    }\n",
       "\n",
       "    .dataframe tbody tr th {\n",
       "        vertical-align: top;\n",
       "    }\n",
       "\n",
       "    .dataframe thead th {\n",
       "        text-align: right;\n",
       "    }\n",
       "</style>\n",
       "<table border=\"1\" class=\"dataframe\">\n",
       "  <thead>\n",
       "    <tr style=\"text-align: right;\">\n",
       "      <th></th>\n",
       "      <th>Time</th>\n",
       "      <th>V1</th>\n",
       "      <th>V2</th>\n",
       "      <th>V3</th>\n",
       "      <th>V4</th>\n",
       "      <th>V5</th>\n",
       "      <th>V6</th>\n",
       "      <th>V7</th>\n",
       "      <th>V8</th>\n",
       "      <th>V9</th>\n",
       "      <th>...</th>\n",
       "      <th>V21</th>\n",
       "      <th>V22</th>\n",
       "      <th>V23</th>\n",
       "      <th>V24</th>\n",
       "      <th>V25</th>\n",
       "      <th>V26</th>\n",
       "      <th>V27</th>\n",
       "      <th>V28</th>\n",
       "      <th>Amount</th>\n",
       "      <th>Class</th>\n",
       "    </tr>\n",
       "  </thead>\n",
       "  <tbody>\n",
       "    <tr>\n",
       "      <th>0</th>\n",
       "      <td>-1.996583</td>\n",
       "      <td>-0.694242</td>\n",
       "      <td>-0.044075</td>\n",
       "      <td>1.672773</td>\n",
       "      <td>0.973366</td>\n",
       "      <td>-0.245117</td>\n",
       "      <td>0.347068</td>\n",
       "      <td>0.193679</td>\n",
       "      <td>0.082637</td>\n",
       "      <td>0.331128</td>\n",
       "      <td>...</td>\n",
       "      <td>-0.024923</td>\n",
       "      <td>0.382854</td>\n",
       "      <td>-0.176911</td>\n",
       "      <td>0.110507</td>\n",
       "      <td>0.246585</td>\n",
       "      <td>-0.392170</td>\n",
       "      <td>0.330892</td>\n",
       "      <td>-0.063781</td>\n",
       "      <td>0.244964</td>\n",
       "      <td>0</td>\n",
       "    </tr>\n",
       "    <tr>\n",
       "      <th>1</th>\n",
       "      <td>-1.996583</td>\n",
       "      <td>0.608496</td>\n",
       "      <td>0.161176</td>\n",
       "      <td>0.109797</td>\n",
       "      <td>0.316523</td>\n",
       "      <td>0.043483</td>\n",
       "      <td>-0.061820</td>\n",
       "      <td>-0.063700</td>\n",
       "      <td>0.071253</td>\n",
       "      <td>-0.232494</td>\n",
       "      <td>...</td>\n",
       "      <td>-0.307377</td>\n",
       "      <td>-0.880077</td>\n",
       "      <td>0.162201</td>\n",
       "      <td>-0.561131</td>\n",
       "      <td>0.320694</td>\n",
       "      <td>0.261069</td>\n",
       "      <td>-0.022256</td>\n",
       "      <td>0.044608</td>\n",
       "      <td>-0.342475</td>\n",
       "      <td>0</td>\n",
       "    </tr>\n",
       "    <tr>\n",
       "      <th>2</th>\n",
       "      <td>-1.996562</td>\n",
       "      <td>-0.693500</td>\n",
       "      <td>-0.811578</td>\n",
       "      <td>1.169468</td>\n",
       "      <td>0.268231</td>\n",
       "      <td>-0.364572</td>\n",
       "      <td>1.351454</td>\n",
       "      <td>0.639776</td>\n",
       "      <td>0.207373</td>\n",
       "      <td>-1.378675</td>\n",
       "      <td>...</td>\n",
       "      <td>0.337632</td>\n",
       "      <td>1.063358</td>\n",
       "      <td>1.456320</td>\n",
       "      <td>-1.138092</td>\n",
       "      <td>-0.628537</td>\n",
       "      <td>-0.288447</td>\n",
       "      <td>-0.137137</td>\n",
       "      <td>-0.181021</td>\n",
       "      <td>1.160686</td>\n",
       "      <td>0</td>\n",
       "    </tr>\n",
       "  </tbody>\n",
       "</table>\n",
       "<p>3 rows × 31 columns</p>\n",
       "</div>"
      ],
      "text/plain": [
       "       Time        V1        V2        V3        V4        V5        V6  \\\n",
       "0 -1.996583 -0.694242 -0.044075  1.672773  0.973366 -0.245117  0.347068   \n",
       "1 -1.996583  0.608496  0.161176  0.109797  0.316523  0.043483 -0.061820   \n",
       "2 -1.996562 -0.693500 -0.811578  1.169468  0.268231 -0.364572  1.351454   \n",
       "\n",
       "         V7        V8        V9  ...       V21       V22       V23       V24  \\\n",
       "0  0.193679  0.082637  0.331128  ... -0.024923  0.382854 -0.176911  0.110507   \n",
       "1 -0.063700  0.071253 -0.232494  ... -0.307377 -0.880077  0.162201 -0.561131   \n",
       "2  0.639776  0.207373 -1.378675  ...  0.337632  1.063358  1.456320 -1.138092   \n",
       "\n",
       "        V25       V26       V27       V28    Amount  Class  \n",
       "0  0.246585 -0.392170  0.330892 -0.063781  0.244964      0  \n",
       "1  0.320694  0.261069 -0.022256  0.044608 -0.342475      0  \n",
       "2 -0.628537 -0.288447 -0.137137 -0.181021  1.160686      0  \n",
       "\n",
       "[3 rows x 31 columns]"
      ]
     },
     "execution_count": 258,
     "metadata": {},
     "output_type": "execute_result"
    }
   ],
   "source": [
    "data.head(3)"
   ]
  },
  {
   "cell_type": "markdown",
   "id": "d72763e9",
   "metadata": {},
   "source": [
    "### Build the Model"
   ]
  },
  {
   "cell_type": "code",
   "execution_count": 356,
   "id": "366ba8c3",
   "metadata": {
    "execution": {
     "iopub.execute_input": "2025-01-27T04:11:11.824899Z",
     "iopub.status.busy": "2025-01-27T04:11:11.824616Z",
     "iopub.status.idle": "2025-01-27T04:11:17.133240Z",
     "shell.execute_reply": "2025-01-27T04:11:17.132298Z",
     "shell.execute_reply.started": "2025-01-27T04:11:11.824878Z"
    }
   },
   "outputs": [],
   "source": [
    "# Train a Logistic Regression model\n",
    "#1. Without regularizer\n",
    "Model = LogisticRegression(random_state=42,solver='liblinear')\n",
    "Model.fit(X_train_new, y_train_new)\n",
    "\n",
    "# Predict on the test set\n",
    "y_hat = Model.predict(X_test)\n",
    "probability = Model.predict_proba(X_test)[:, 1]"
   ]
  },
  {
   "cell_type": "markdown",
   "id": "3dd4d8ff",
   "metadata": {},
   "source": [
    "#### Classification Matrics (Precision, Racall and ROC-AUC score)"
   ]
  },
  {
   "cell_type": "code",
   "execution_count": 360,
   "id": "4075fb57",
   "metadata": {
    "execution": {
     "iopub.execute_input": "2025-01-27T04:11:20.591817Z",
     "iopub.status.busy": "2025-01-27T04:11:20.591124Z",
     "iopub.status.idle": "2025-01-27T04:11:20.929661Z",
     "shell.execute_reply": "2025-01-27T04:11:20.928978Z",
     "shell.execute_reply.started": "2025-01-27T04:11:20.591787Z"
    }
   },
   "outputs": [
    {
     "name": "stdout",
     "output_type": "stream",
     "text": [
      "Classification Report:               precision    recall  f1-score   support\n",
      "\n",
      "           0       1.00      0.97      0.99     56864\n",
      "           1       0.06      0.92      0.11        98\n",
      "\n",
      "    accuracy                           0.97     56962\n",
      "   macro avg       0.53      0.95      0.55     56962\n",
      "weighted avg       1.00      0.97      0.99     56962\n",
      "\n",
      "ROC-AUC Score: 0.9708176795619767\n"
     ]
    }
   ],
   "source": [
    "# Classification metrics\n",
    "print(f\"Classification Report: {classification_report(y_test, y_hat)}\")\n",
    "\n",
    "# ROC-AUC score\n",
    "print(\"ROC-AUC Score:\", roc_auc_score(y_test, probability))"
   ]
  },
  {
   "cell_type": "code",
   "execution_count": 363,
   "id": "0853b5e6-3d53-4257-a666-e78d0f0fba92",
   "metadata": {
    "execution": {
     "iopub.execute_input": "2025-01-27T04:11:22.226356Z",
     "iopub.status.busy": "2025-01-27T04:11:22.226058Z",
     "iopub.status.idle": "2025-01-27T04:11:22.518985Z",
     "shell.execute_reply": "2025-01-27T04:11:22.517913Z",
     "shell.execute_reply.started": "2025-01-27T04:11:22.226330Z"
    }
   },
   "outputs": [
    {
     "data": {
      "image/png": "[encoded data removed]",
      "text/plain": [
       "<Figure size 800x600 with 1 Axes>"
      ]
     },
     "metadata": {},
     "output_type": "display_data"
    }
   ],
   "source": [
    "from sklearn.metrics import roc_curve, auc\n",
    "import matplotlib.pyplot as plt\n",
    "\n",
    "# Compute the ROC curve\n",
    "fpr, tpr, thresholds = roc_curve(y_test, probability)\n",
    "\n",
    "# Compute the AUC (Area Under the Curve)\n",
    "roc_auc = auc(fpr, tpr)\n",
    "\n",
    "# Plot the ROC Curve\n",
    "plt.figure(figsize=(8, 6))\n",
    "plt.plot(fpr, tpr, color='blue', lw=2, label=f\"ROC Curve (AUC = {roc_auc:.2f})\")\n",
    "plt.plot([0, 1], [0, 1], color='gray', linestyle='--', label=\"Random Guess\")\n",
    "plt.xlabel(\"False Positive Rate\")\n",
    "plt.ylabel(\"True Positive Rate\")\n",
    "plt.title(\"Receiver Operating Characteristic (ROC) Curve\")\n",
    "plt.legend(loc=\"lower right\")\n",
    "plt.grid()\n",
    "plt.show()\n"
   ]
  },
  {
   "cell_type": "code",
   "execution_count": 366,
   "id": "f81cf7b5",
   "metadata": {
    "execution": {
     "iopub.execute_input": "2025-01-27T04:11:24.295473Z",
     "iopub.status.busy": "2025-01-27T04:11:24.294960Z",
     "iopub.status.idle": "2025-01-27T04:11:24.332875Z",
     "shell.execute_reply": "2025-01-27T04:11:24.332182Z",
     "shell.execute_reply.started": "2025-01-27T04:11:24.295443Z"
    }
   },
   "outputs": [
    {
     "name": "stdout",
     "output_type": "stream",
     "text": [
      "Confusion Matrix: [[55399  1465]\n",
      " [    8    90]]\n",
      "False Negative Loss: $4000\n",
      "False Positive Loss: $14650\n",
      "Total Financial Loss: $18650\n"
     ]
    }
   ],
   "source": [
    "# Confusion matrix\n",
    "confusionMatrix = confusion_matrix(y_test, y_hat)\n",
    "true_negative, false_positive, false_negative, true_positive = confusionMatrix.ravel()\n",
    "\n",
    "# Financial loss\n",
    "false_negative_loss = false_negative * 500\n",
    "false_positive_loss = false_positive * 10\n",
    "total_loss = false_negative_loss + false_positive_loss\n",
    "\n",
    "print(f\"Confusion Matrix: {confusionMatrix}\")\n",
    "print(f\"False Negative Loss: ${false_negative_loss}\")\n",
    "print(f\"False Positive Loss: ${false_positive_loss}\")\n",
    "print(f\"Total Financial Loss: ${total_loss}\")"
   ]
  },
  {
   "cell_type": "code",
   "execution_count": 369,
   "id": "ddae69c7-d837-4dec-ad53-c850d5751e23",
   "metadata": {
    "execution": {
     "iopub.execute_input": "2025-01-27T04:11:28.222581Z",
     "iopub.status.busy": "2025-01-27T04:11:28.222089Z",
     "iopub.status.idle": "2025-01-27T04:11:28.349829Z",
     "shell.execute_reply": "2025-01-27T04:11:28.348970Z",
     "shell.execute_reply.started": "2025-01-27T04:11:28.222527Z"
    }
   },
   "outputs": [
    {
     "data": {
      "image/png": "[encoded data removed]",
      "text/plain": [
       "<Figure size 600x400 with 1 Axes>"
      ]
     },
     "metadata": {},
     "output_type": "display_data"
    }
   ],
   "source": [
    "# Add financial losses to confusion matrix as annotations\n",
    "labels = np.array([\n",
    "    [f\"TN: {true_negative}\", f\"FP: {false_positive}\\nLoss: ${false_positive_loss}\"],\n",
    "    [f\"FN: {false_negative}\\nLoss: ${false_negative_loss}\", f\"TP: {true_positive}\"]\n",
    "])\n",
    "\n",
    "# Plot confusion matrix with annotations\n",
    "plt.figure(figsize=(6, 4))\n",
    "sns.heatmap(confusionMatrix, annot=labels, fmt='', cmap=\"YlGnBu\", cbar=False, annot_kws={\"size\": 8})\n",
    "plt.title(f\"Confusion Matrix with Financial Loss\\nTotal Loss: ${total_loss}\")\n",
    "plt.xlabel(\"Predicted Label\")\n",
    "plt.ylabel(\"True Label\")\n",
    "plt.xticks(ticks=[0.5, 1.5], labels=[\"Negative\", \"Positive\"], rotation=0)\n",
    "plt.yticks(ticks=[0.5, 1.5], labels=[\"Negative\", \"Positive\"], rotation=0)\n",
    "plt.show()"
   ]
  },
  {
   "cell_type": "markdown",
   "id": "050855f4",
   "metadata": {},
   "source": [
    "### Using Regularizer (l2 = Ridge and l1 = Lasso)"
   ]
  },
  {
   "cell_type": "code",
   "execution_count": 373,
   "id": "13cc76ac",
   "metadata": {
    "execution": {
     "iopub.execute_input": "2025-01-27T04:11:34.962889Z",
     "iopub.status.busy": "2025-01-27T04:11:34.962661Z",
     "iopub.status.idle": "2025-01-27T04:11:39.982330Z",
     "shell.execute_reply": "2025-01-27T04:11:39.981370Z",
     "shell.execute_reply.started": "2025-01-27T04:11:34.962870Z"
    }
   },
   "outputs": [],
   "source": [
    "# With Regularizer (Ridge regularizer)\n",
    "Model_ridge = LogisticRegression(random_state=42,penalty='l2', C=1.0, solver='liblinear')\n",
    "Model_ridge.fit(X_train_new, y_train_new)\n",
    "\n",
    "# Predict on the test set\n",
    "y_hat_ridge = Model_ridge.predict(X_test)\n",
    "probability_ridge = Model_ridge.predict_proba(X_test)[:, 1]"
   ]
  },
  {
   "cell_type": "code",
   "execution_count": 375,
   "id": "efdaed3d",
   "metadata": {
    "execution": {
     "iopub.execute_input": "2025-01-27T04:11:40.031619Z",
     "iopub.status.busy": "2025-01-27T04:11:40.031305Z",
     "iopub.status.idle": "2025-01-27T04:11:40.240261Z",
     "shell.execute_reply": "2025-01-27T04:11:40.239565Z",
     "shell.execute_reply.started": "2025-01-27T04:11:40.031589Z"
    }
   },
   "outputs": [
    {
     "name": "stdout",
     "output_type": "stream",
     "text": [
      "Classification Report:               precision    recall  f1-score   support\n",
      "\n",
      "           0       1.00      0.97      0.99     56864\n",
      "           1       0.06      0.92      0.11        98\n",
      "\n",
      "    accuracy                           0.97     56962\n",
      "   macro avg       0.53      0.95      0.55     56962\n",
      "weighted avg       1.00      0.97      0.99     56962\n",
      "\n",
      "ROC-AUC Score: 0.9708176795619767\n"
     ]
    }
   ],
   "source": [
    "# Classification metrics\n",
    "print(f\"Classification Report: {classification_report(y_test, y_hat_ridge)}\")\n",
    "\n",
    "# ROC-AUC score\n",
    "print(\"ROC-AUC Score:\", roc_auc_score(y_test, probability_ridge))"
   ]
  },
  {
   "cell_type": "code",
   "execution_count": 377,
   "id": "b6537c84-0e40-45c5-8a7e-304aba931e07",
   "metadata": {
    "execution": {
     "iopub.execute_input": "2025-01-27T04:11:40.532622Z",
     "iopub.status.busy": "2025-01-27T04:11:40.532038Z",
     "iopub.status.idle": "2025-01-27T04:11:40.769498Z",
     "shell.execute_reply": "2025-01-27T04:11:40.768712Z",
     "shell.execute_reply.started": "2025-01-27T04:11:40.532599Z"
    }
   },
   "outputs": [
    {
     "data": {
      "image/png": "[encoded data removed]",
      "text/plain": [
       "<Figure size 800x600 with 1 Axes>"
      ]
     },
     "metadata": {},
     "output_type": "display_data"
    }
   ],
   "source": [
    "# Compute the ROC curve\n",
    "fpr, tpr, thresholds = roc_curve(y_test, probability_ridge)\n",
    "\n",
    "# Compute the AUC (Area Under the Curve)\n",
    "roc_auc = auc(fpr, tpr)\n",
    "\n",
    "# Plot the ROC Curve\n",
    "plt.figure(figsize=(8, 6))\n",
    "plt.plot(fpr, tpr, color='blue', lw=2, label=f\"ROC Curve (AUC = {roc_auc:.2f})\")\n",
    "plt.plot([0, 1], [0, 1], color='gray', linestyle='--', label=\"Random Guess\")\n",
    "plt.xlabel(\"False Positive Rate\")\n",
    "plt.ylabel(\"True Positive Rate\")\n",
    "plt.title(\"Receiver Operating Characteristic (ROC) Curve\")\n",
    "plt.legend(loc=\"lower right\")\n",
    "plt.grid()\n",
    "plt.show()"
   ]
  },
  {
   "cell_type": "code",
   "execution_count": 382,
   "id": "6817fd2d",
   "metadata": {
    "execution": {
     "iopub.execute_input": "2025-01-27T04:11:42.631477Z",
     "iopub.status.busy": "2025-01-27T04:11:42.631027Z",
     "iopub.status.idle": "2025-01-27T04:11:42.676359Z",
     "shell.execute_reply": "2025-01-27T04:11:42.675693Z",
     "shell.execute_reply.started": "2025-01-27T04:11:42.631454Z"
    }
   },
   "outputs": [
    {
     "name": "stdout",
     "output_type": "stream",
     "text": [
      "Confusion Matrix: [[55399  1465]\n",
      " [    8    90]]\n",
      "False Negative Loss: $4000\n",
      "False Positive Loss: $14650\n",
      "Total Financial Loss: $18650\n"
     ]
    }
   ],
   "source": [
    "# Confusion matrix\n",
    "confusionMatrix = confusion_matrix(y_test, y_hat_ridge)\n",
    "true_negative, false_positive, false_negative, true_positive = confusionMatrix.ravel()\n",
    "\n",
    "# Financial loss\n",
    "false_negative_loss = false_negative * 500\n",
    "false_positive_loss = false_positive * 10\n",
    "total_loss = false_negative_loss + false_positive_loss\n",
    "\n",
    "print(f\"Confusion Matrix: {confusionMatrix}\")\n",
    "print(f\"False Negative Loss: ${false_negative_loss}\")\n",
    "print(f\"False Positive Loss: ${false_positive_loss}\")\n",
    "print(f\"Total Financial Loss: ${total_loss}\")"
   ]
  },
  {
   "cell_type": "code",
   "execution_count": 385,
   "id": "7946fe96-baeb-4675-99af-8f6cac986f43",
   "metadata": {
    "execution": {
     "iopub.execute_input": "2025-01-27T04:11:47.144408Z",
     "iopub.status.busy": "2025-01-27T04:11:47.143564Z",
     "iopub.status.idle": "2025-01-27T04:11:47.258772Z",
     "shell.execute_reply": "2025-01-27T04:11:47.257552Z",
     "shell.execute_reply.started": "2025-01-27T04:11:47.144367Z"
    }
   },
   "outputs": [
    {
     "data": {
      "image/png": "[encoded data removed]",
      "text/plain": [
       "<Figure size 600x400 with 1 Axes>"
      ]
     },
     "metadata": {},
     "output_type": "display_data"
    }
   ],
   "source": [
    "# Add financial losses to confusion matrix as annotations\n",
    "labels = np.array([\n",
    "    [f\"TN: {true_negative}\", f\"FP: {false_positive}\\nLoss: ${false_positive_loss}\"],\n",
    "    [f\"FN: {false_negative}\\nLoss: ${false_negative_loss}\", f\"TP: {true_positive}\"]\n",
    "])\n",
    "\n",
    "# Plot confusion matrix with annotations\n",
    "plt.figure(figsize=(6, 4))\n",
    "sns.heatmap(confusionMatrix, annot=labels, fmt='', cmap=\"YlGnBu\", cbar=False, annot_kws={\"size\": 8})\n",
    "plt.title(f\"Confusion Matrix with Financial Loss\\nTotal Loss: ${total_loss}\")\n",
    "plt.xlabel(\"Predicted Label\")\n",
    "plt.ylabel(\"True Label\")\n",
    "plt.xticks(ticks=[0.5, 1.5], labels=[\"Negative\", \"Positive\"], rotation=0)\n",
    "plt.yticks(ticks=[0.5, 1.5], labels=[\"Negative\", \"Positive\"], rotation=0)\n",
    "plt.show()"
   ]
  },
  {
   "cell_type": "code",
   "execution_count": 388,
   "id": "54d8d0d2-9e80-4ad6-b7b9-15d10bd3c86c",
   "metadata": {
    "execution": {
     "iopub.execute_input": "2025-01-27T04:12:25.770113Z",
     "iopub.status.busy": "2025-01-27T04:12:25.769530Z",
     "iopub.status.idle": "2025-01-27T04:12:26.271069Z",
     "shell.execute_reply": "2025-01-27T04:12:26.270332Z",
     "shell.execute_reply.started": "2025-01-27T04:12:25.770087Z"
    }
   },
   "outputs": [],
   "source": [
    "from imblearn.over_sampling import SMOTE\n",
    "\n",
    "smote = SMOTE(random_state=42)\n",
    "X_train_balanced, y_train_balanced = smote.fit_resample(X_train, y_train)\n"
   ]
  },
  {
   "cell_type": "code",
   "execution_count": 391,
   "id": "048a975f",
   "metadata": {
    "execution": {
     "iopub.execute_input": "2025-01-27T04:12:28.267593Z",
     "iopub.status.busy": "2025-01-27T04:12:28.267115Z",
     "iopub.status.idle": "2025-01-27T04:12:40.838113Z",
     "shell.execute_reply": "2025-01-27T04:12:40.837341Z",
     "shell.execute_reply.started": "2025-01-27T04:12:28.267565Z"
    }
   },
   "outputs": [],
   "source": [
    "# With Regularizer (Lasso regularizer)\n",
    "model_lasso = LogisticRegression(random_state=42,penalty='l1', C=1.0, solver='liblinear')\n",
    "model_lasso.fit(X_train_balanced, y_train_balanced)\n",
    "\n",
    "# Predict on the test set\n",
    "y_hat_lasso = model_lasso.predict(X_test)\n",
    "probabiliy_lasso = model_lasso.predict_proba(X_test)[:, 1]"
   ]
  },
  {
   "cell_type": "code",
   "execution_count": 393,
   "id": "25587dfc",
   "metadata": {
    "execution": {
     "iopub.execute_input": "2025-01-27T04:12:40.875624Z",
     "iopub.status.busy": "2025-01-27T04:12:40.874162Z",
     "iopub.status.idle": "2025-01-27T04:12:41.104808Z",
     "shell.execute_reply": "2025-01-27T04:12:41.103989Z",
     "shell.execute_reply.started": "2025-01-27T04:12:40.875601Z"
    }
   },
   "outputs": [
    {
     "name": "stdout",
     "output_type": "stream",
     "text": [
      "Classification Report:               precision    recall  f1-score   support\n",
      "\n",
      "           0       1.00      0.97      0.99     56864\n",
      "           1       0.06      0.92      0.11        98\n",
      "\n",
      "    accuracy                           0.97     56962\n",
      "   macro avg       0.53      0.95      0.55     56962\n",
      "weighted avg       1.00      0.97      0.99     56962\n",
      "\n",
      "ROC-AUC Score: 0.97072876350878\n"
     ]
    }
   ],
   "source": [
    "# Classification metrics\n",
    "print(f\"Classification Report: {classification_report(y_test, y_hat_lasso)}\")\n",
    "\n",
    "# ROC-AUC score\n",
    "print(\"ROC-AUC Score:\", roc_auc_score(y_test, probabiliy_lasso))"
   ]
  },
  {
   "cell_type": "code",
   "execution_count": 397,
   "id": "95dcb0ec-5622-495c-bdaf-3533a641fb4b",
   "metadata": {
    "execution": {
     "iopub.execute_input": "2025-01-27T04:12:47.916583Z",
     "iopub.status.busy": "2025-01-27T04:12:47.916282Z",
     "iopub.status.idle": "2025-01-27T04:12:48.142281Z",
     "shell.execute_reply": "2025-01-27T04:12:48.141458Z",
     "shell.execute_reply.started": "2025-01-27T04:12:47.916561Z"
    }
   },
   "outputs": [
    {
     "data": {
      "image/png": "[encoded data removed]",
      "text/plain": [
       "<Figure size 800x600 with 1 Axes>"
      ]
     },
     "metadata": {},
     "output_type": "display_data"
    }
   ],
   "source": [
    "# Compute the ROC curve\n",
    "fpr, tpr, thresholds = roc_curve(y_test, probabiliy_lasso)\n",
    "\n",
    "# Compute the AUC (Area Under the Curve)\n",
    "roc_auc = auc(fpr, tpr)\n",
    "\n",
    "# Plot the ROC Curve\n",
    "plt.figure(figsize=(8, 6))\n",
    "plt.plot(fpr, tpr, color='blue', lw=2, label=f\"ROC Curve (AUC = {roc_auc:.2f})\")\n",
    "plt.plot([0, 1], [0, 1], color='gray', linestyle='--', label=\"Random Guess\")\n",
    "plt.xlabel(\"False Positive Rate\")\n",
    "plt.ylabel(\"True Positive Rate\")\n",
    "plt.title(\"Receiver Operating Characteristic (ROC) Curve\")\n",
    "plt.legend(loc=\"lower right\")\n",
    "plt.grid()\n",
    "plt.show()"
   ]
  },
  {
   "cell_type": "code",
   "execution_count": 400,
   "id": "f9f56e23",
   "metadata": {
    "execution": {
     "iopub.execute_input": "2025-01-27T04:12:49.759034Z",
     "iopub.status.busy": "2025-01-27T04:12:49.758500Z",
     "iopub.status.idle": "2025-01-27T04:12:49.805775Z",
     "shell.execute_reply": "2025-01-27T04:12:49.804516Z",
     "shell.execute_reply.started": "2025-01-27T04:12:49.759006Z"
    }
   },
   "outputs": [
    {
     "name": "stdout",
     "output_type": "stream",
     "text": [
      "Confusion Matrix: [[55399  1465]\n",
      " [    8    90]]\n",
      "False Negative Loss: $4000\n",
      "False Positive Loss: $14650\n",
      "Total Financial Loss: $18650\n"
     ]
    }
   ],
   "source": [
    "# Confusion matrix\n",
    "confusionMatrix = confusion_matrix(y_test, y_hat_lasso)\n",
    "true_negative, false_positive, false_negative, true_positive = confusionMatrix.ravel()\n",
    "\n",
    "# Financial loss\n",
    "false_negative_loss = false_negative * 500\n",
    "false_positive_loss = false_positive * 10\n",
    "total_loss = false_negative_loss + false_positive_loss\n",
    "\n",
    "print(f\"Confusion Matrix: {confusionMatrix}\")\n",
    "print(f\"False Negative Loss: ${false_negative_loss}\")\n",
    "print(f\"False Positive Loss: ${false_positive_loss}\")\n",
    "print(f\"Total Financial Loss: ${total_loss}\")"
   ]
  },
  {
   "cell_type": "code",
   "execution_count": 403,
   "id": "4838bda8-aab2-4496-a69a-92abd2e94c4a",
   "metadata": {
    "execution": {
     "iopub.execute_input": "2025-01-27T04:12:50.843747Z",
     "iopub.status.busy": "2025-01-27T04:12:50.843022Z",
     "iopub.status.idle": "2025-01-27T04:12:50.951673Z",
     "shell.execute_reply": "2025-01-27T04:12:50.950726Z",
     "shell.execute_reply.started": "2025-01-27T04:12:50.843717Z"
    }
   },
   "outputs": [
    {
     "data": {
      "image/png": "[encoded data removed]",
      "text/plain": [
       "<Figure size 600x400 with 1 Axes>"
      ]
     },
     "metadata": {},
     "output_type": "display_data"
    }
   ],
   "source": [
    "# Add financial losses to confusion matrix as annotations\n",
    "labels = np.array([\n",
    "    [f\"TN: {true_negative}\", f\"FP: {false_positive}\\nLoss: ${false_positive_loss}\"],\n",
    "    [f\"FN: {false_negative}\\nLoss: ${false_negative_loss}\", f\"TP: {true_positive}\"]\n",
    "])\n",
    "\n",
    "# Plot confusion matrix with annotations\n",
    "plt.figure(figsize=(6, 4))\n",
    "sns.heatmap(confusionMatrix, annot=labels, fmt='', cmap=\"YlGnBu\", cbar=False, annot_kws={\"size\": 8})\n",
    "plt.title(f\"Confusion Matrix with Financial Loss\\nTotal Loss: ${total_loss}\")\n",
    "plt.xlabel(\"Predicted Label\")\n",
    "plt.ylabel(\"True Label\")\n",
    "plt.xticks(ticks=[0.5, 1.5], labels=[\"Negative\", \"Positive\"], rotation=0)\n",
    "plt.yticks(ticks=[0.5, 1.5], labels=[\"Negative\", \"Positive\"], rotation=0)\n",
    "plt.show()"
   ]
  },
  {
   "cell_type": "markdown",
   "id": "31c9b4b1",
   "metadata": {},
   "source": [
    "<p>Even after using the regularizer the model metrics remains the same. One of the possoble reasons could be we are using a very simplistic model to train a classifier on the credit card fraud data which may have complex relationships between the various columns. Maybe using complex models with regularizer may yield better classifier.</p>"
   ]
  },
  {
   "cell_type": "markdown",
   "id": "ebbf96aa",
   "metadata": {},
   "source": [
    "### Classification Threshold Adjustment"
   ]
  },
  {
   "cell_type": "code",
   "execution_count": 408,
   "id": "538bd7c0",
   "metadata": {
    "execution": {
     "iopub.execute_input": "2025-01-27T04:12:55.639854Z",
     "iopub.status.busy": "2025-01-27T04:12:55.639541Z",
     "iopub.status.idle": "2025-01-27T04:12:57.358031Z",
     "shell.execute_reply": "2025-01-27T04:12:57.357284Z",
     "shell.execute_reply.started": "2025-01-27T04:12:55.639834Z"
    }
   },
   "outputs": [
    {
     "name": "stderr",
     "output_type": "stream",
     "text": [
      "100%|██████████| 100/100 [00:01<00:00, 58.88it/s]"
     ]
    },
    {
     "name": "stdout",
     "output_type": "stream",
     "text": [
      "Best throshold value for minimul finacial loss : 0.98\n",
      "Adjusted Confusion Matrix: [[56794    70]\n",
      " [   12    86]]\n",
      "Adjusted False Negative Loss: $6000\n",
      "Adjusted False Positive Loss: $700\n",
      "Adjusted Total Financial Loss: $6700\n"
     ]
    },
    {
     "name": "stderr",
     "output_type": "stream",
     "text": [
      "\n"
     ]
    }
   ],
   "source": [
    "# Adjust decision threshold\n",
    "threshold = [i/100 for i in range(100)]\n",
    "# print(threshold)\n",
    "best_loss_adjusted = 10000000000000\n",
    "best_threshold = 0\n",
    "for th in tqdm(threshold):\n",
    "    y_hat_adjusted = (probability >= th).astype(int)\n",
    "\n",
    "    # Recalculate metrics and loss\n",
    "    conf_matrix_adjusted = confusion_matrix(y_test, y_hat_adjusted)\n",
    "    true_negative, false_positive, false_negative, true_positive = conf_matrix_adjusted.ravel()\n",
    "\n",
    "    false_negative_loss_adjusted = false_negative * 500\n",
    "    false_positive_loss_adjusted = false_positive * 10\n",
    "    total_loss_adjusted = false_negative_loss_adjusted + false_positive_loss_adjusted\n",
    "    if best_loss_adjusted > total_loss_adjusted:\n",
    "        best_loss_adjusted = total_loss_adjusted\n",
    "        best_threshold = th\n",
    "\n",
    "#Final confusion matrix and financial losses with best threshold\n",
    "print(f\"Best throshold value for minimul finacial loss : {best_threshold}\")\n",
    "y_pred_adjusted = (y_hat >= best_threshold).astype(int)\n",
    "\n",
    "print(f\"Adjusted Confusion Matrix: {conf_matrix_adjusted}\")\n",
    "print(f\"Adjusted False Negative Loss: ${false_negative_loss_adjusted}\")\n",
    "print(f\"Adjusted False Positive Loss: ${false_positive_loss_adjusted}\")\n",
    "print(f\"Adjusted Total Financial Loss: ${total_loss_adjusted}\")"
   ]
  },
  {
   "cell_type": "code",
   "execution_count": null,
   "id": "ddf3a553-a2d1-4b90-872c-9e8e84b82f57",
   "metadata": {},
   "outputs": [],
   "source": []
  }
 ],
 "metadata": {
  "kernelspec": {
   "display_name": "anaconda-2024.02-py310",
   "language": "python",
   "name": "conda-env-anaconda-2024.02-py310-py"
  },
  "language_info": {
   "codemirror_mode": {
    "name": "ipython",
    "version": 3
   },
   "file_extension": ".py",
   "mimetype": "text/x-python",
   "name": "python",
   "nbconvert_exporter": "python",
   "pygments_lexer": "ipython3",
   "version": "3.10.14"
  }
 },
 "nbformat": 4,
 "nbformat_minor": 5
}
